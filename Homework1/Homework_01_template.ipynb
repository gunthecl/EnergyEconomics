{
 "cells": [
  {
   "cell_type": "markdown",
   "metadata": {},
   "source": [
    "# Homework 1"
   ]
  },
  {
   "cell_type": "code",
   "execution_count": 1,
   "metadata": {},
   "outputs": [],
   "source": [
    "using JuMP\n",
    "using Clp\n",
    "using Plots\n",
    "using RecipesBase\n",
    "using NamedArrays"
   ]
  },
  {
   "cell_type": "code",
   "execution_count": 2,
   "metadata": {},
   "outputs": [
    {
     "data": {
      "text/plain": [
       "24-element Array{Int64,1}:\n",
       "  1\n",
       "  2\n",
       "  3\n",
       "  4\n",
       "  5\n",
       "  6\n",
       "  7\n",
       "  8\n",
       "  9\n",
       " 10\n",
       " 11\n",
       " 12\n",
       " 13\n",
       " 14\n",
       " 15\n",
       " 16\n",
       " 17\n",
       " 18\n",
       " 19\n",
       " 20\n",
       " 21\n",
       " 22\n",
       " 23\n",
       " 24"
      ]
     },
     "execution_count": 2,
     "metadata": {},
     "output_type": "execute_result"
    }
   ],
   "source": [
    "HOUR = collect(1:24)"
   ]
  },
  {
   "cell_type": "code",
   "execution_count": 3,
   "metadata": {},
   "outputs": [
    {
     "data": {
      "text/plain": [
       "7-element Array{String,1}:\n",
       " \"Nuclear\"    \n",
       " \"Lignite\"    \n",
       " \"Hard coal\"  \n",
       " \"Natural gas\"\n",
       " \"Wind\"       \n",
       " \"Solar\"      \n",
       " \"Storage gen\""
      ]
     },
     "execution_count": 3,
     "metadata": {},
     "output_type": "execute_result"
    }
   ],
   "source": [
    "DISP = [\"Nuclear\", \"Lignite\", \"Hard coal\", \"Natural gas\"]\n",
    "RES = [\"Wind\", \"Solar\"]\n",
    "TECHNOLOGIES = vcat(DISP, RES, \"Storage gen\")"
   ]
  },
  {
   "cell_type": "code",
   "execution_count": 4,
   "metadata": {},
   "outputs": [
    {
     "data": {
      "text/plain": [
       "24-element Array{Int64,1}:\n",
       " 60\n",
       " 59\n",
       " 56\n",
       " 58\n",
       " 64\n",
       " 69\n",
       " 79\n",
       " 85\n",
       " 81\n",
       " 79\n",
       " 78\n",
       " 78\n",
       " 80\n",
       " 81\n",
       " 82\n",
       " 83\n",
       " 84\n",
       " 85\n",
       " 89\n",
       " 88\n",
       " 86\n",
       " 82\n",
       " 80\n",
       " 71"
      ]
     },
     "execution_count": 4,
     "metadata": {},
     "output_type": "execute_result"
    }
   ],
   "source": [
    "demand = [60, 59, 56, 58, 64, 69, 79, 85, 81, 79, 78, 78, 80, 81, 82, 83, 84, 85, 89, 88, 86, 82, 80, 71]"
   ]
  },
  {
   "cell_type": "markdown",
   "metadata": {},
   "source": [
    "## Calculate the marginal cost"
   ]
  },
  {
   "cell_type": "markdown",
   "metadata": {},
   "source": [
    " Technology | Fuel cost | $\\eta$ | O&M | $\\lambda$\n",
    "-----|----------------|--------------\n",
    " Nuclear   |        3.00       |       0.33 | 10 | 0\n",
    " Lignite   |        6.21      |       0.42 | 6 | 0.399\n",
    " Hard coal   |       10.60       |      0.42 | 6 | 0.337\n",
    " Natural gas  |       31.08       |      0.59 | 2 | 0.201\n"
   ]
  },
  {
   "cell_type": "markdown",
   "metadata": {},
   "source": [
    "Use this formula to calculate the marginal cost. The result should be a NamedArray with 4 elements. Assume the $ CO_{2}$ price to be 7 $\\frac{EUR}{MWh}$.\n",
    "\n",
    "$$ mc_p = \\frac{\\text{fuel_costs}_p}{\\eta_p} + \\text{co2_costs} \\cdot \\lambda_p + \\text{om}_p$$"
   ]
  },
  {
   "cell_type": "code",
   "execution_count": 5,
   "metadata": {
    "scrolled": true
   },
   "outputs": [
    {
     "data": {
      "text/html": [
       "7"
      ],
      "text/plain": [
       "7"
      ]
     },
     "execution_count": 5,
     "metadata": {},
     "output_type": "execute_result"
    }
   ],
   "source": [
    "co_price = 7"
   ]
  },
  {
   "cell_type": "markdown",
   "metadata": {},
   "source": [
    "Hint: Multiplying two vectors can be done by using `.*`."
   ]
  },
  {
   "cell_type": "code",
   "execution_count": 6,
   "metadata": {
    "scrolled": false
   },
   "outputs": [
    {
     "data": {
      "text/plain": [
       "4-element Named Array{Float64,1}\n",
       "Technologies  │ \n",
       "──────────────┼──────\n",
       "Nuclear       │   0.0\n",
       "Lignite       │ 0.399\n",
       "Hard coal     │ 0.337\n",
       "Natural gas   │ 0.201"
      ]
     },
     "execution_count": 6,
     "metadata": {},
     "output_type": "execute_result"
    }
   ],
   "source": [
    "c_fuel = NamedArray([3, 6.21, 10.6, 31.08], (DISP,), (\"Technologies\",))\n",
    "eta    = NamedArray([0.33, 0.42, 0.42, 0.59], (DISP,), (\"Technologies\",))\n",
    "om     = NamedArray([10, 6, 6, 2], (DISP,), (\"Technologies\",))\n",
    "lambda = NamedArray([0, 0.399, 0.337, 0.201], (DISP,), (\"Technologies\",))"
   ]
  },
  {
   "cell_type": "code",
   "execution_count": 8,
   "metadata": {},
   "outputs": [
    {
     "data": {
      "text/plain": [
       "4-element Named Array{Float64,1}\n",
       "Technologies  │ \n",
       "──────────────┼────────\n",
       "Nuclear       │ 19.0909\n",
       "Lignite       │ 23.5787\n",
       "Hard coal     │ 33.5971\n",
       "Natural gas   │  56.085"
      ]
     },
     "execution_count": 8,
     "metadata": {},
     "output_type": "execute_result"
    }
   ],
   "source": [
    "mc     = c_fuel./eta + co_price.*lambda + om "
   ]
  },
  {
   "cell_type": "markdown",
   "metadata": {},
   "source": [
    "## Run the model"
   ]
  },
  {
   "cell_type": "markdown",
   "metadata": {},
   "source": [
    "From here on, use the model that was discussed in the class."
   ]
  },
  {
   "cell_type": "code",
   "execution_count": 9,
   "metadata": {
    "scrolled": true
   },
   "outputs": [
    {
     "data": {
      "text/plain": [
       "4-element Named Array{Int64,1}\n",
       "Technologies  │ \n",
       "──────────────┼───\n",
       "Nuclear       │ 20\n",
       "Lignite       │ 30\n",
       "Hard coal     │ 25\n",
       "Natural gas   │ 15"
      ]
     },
     "execution_count": 9,
     "metadata": {},
     "output_type": "execute_result"
    }
   ],
   "source": [
    "g_max = NamedArray([20, 30, 25, 15], (DISP,), (\"Technologies\",))"
   ]
  },
  {
   "cell_type": "code",
   "execution_count": 10,
   "metadata": {},
   "outputs": [
    {
     "data": {
      "text/plain": [
       "24-element Array{Float64,1}:\n",
       " 0.323\n",
       " 0.337\n",
       " 0.354\n",
       " 0.385\n",
       " 0.402\n",
       " 0.395\n",
       " 0.379\n",
       " 0.378\n",
       " 0.372\n",
       " 0.369\n",
       " 0.379\n",
       " 0.386\n",
       " 0.375\n",
       " 0.344\n",
       " 0.299\n",
       " 0.259\n",
       " 0.233\n",
       " 0.209\n",
       " 0.152\n",
       " 0.098\n",
       " 0.085\n",
       " 0.089\n",
       " 0.113\n",
       " 0.155"
      ]
     },
     "execution_count": 10,
     "metadata": {},
     "output_type": "execute_result"
    }
   ],
   "source": [
    "solar_availability = [\n",
    "0\n",
    "0\n",
    "0\n",
    "0.004\n",
    "0.027\n",
    "0.071\n",
    "0.129\n",
    "0.2\n",
    "0.281\n",
    "0.377\n",
    "0.429\n",
    "0.433\n",
    "0.364\n",
    "0.287\n",
    "0.197\n",
    "0.113\n",
    "0.04\n",
    "0.001\n",
    "0\n",
    "0\n",
    "0\n",
    "0\n",
    "0\n",
    "0\n",
    "]\n",
    "\n",
    "wind_availability = [\n",
    "0.323\n",
    "0.337\n",
    "0.354\n",
    "0.385\n",
    "0.402\n",
    "0.395\n",
    "0.379\n",
    "0.378\n",
    "0.372\n",
    "0.369\n",
    "0.379\n",
    "0.386\n",
    "0.375\n",
    "0.344\n",
    "0.299\n",
    "0.259\n",
    "0.233\n",
    "0.209\n",
    "0.152\n",
    "0.098\n",
    "0.085\n",
    "0.089\n",
    "0.113\n",
    "0.155\n",
    "]"
   ]
  },
  {
   "cell_type": "code",
   "execution_count": 11,
   "metadata": {},
   "outputs": [
    {
     "data": {
      "text/html": [
       "40"
      ],
      "text/plain": [
       "40"
      ]
     },
     "execution_count": 11,
     "metadata": {},
     "output_type": "execute_result"
    }
   ],
   "source": [
    "installed_solar = 25\n",
    "installed_wind = 40"
   ]
  },
  {
   "cell_type": "code",
   "execution_count": 12,
   "metadata": {
    "scrolled": true
   },
   "outputs": [
    {
     "data": {
      "text/plain": [
       "2×24 Named Array{Float64,2}\n",
       "Renewable Energy Source ╲ Hour │      1       2  …      23      24\n",
       "───────────────────────────────┼──────────────────────────────────\n",
       "Wind                           │  12.92   13.48  …    4.52     6.2\n",
       "Solar                          │    0.0     0.0  …     0.0     0.0"
      ]
     },
     "execution_count": 12,
     "metadata": {},
     "output_type": "execute_result"
    }
   ],
   "source": [
    "res_infeed = hcat(wind_availability*installed_wind, solar_availability*installed_solar)'\n",
    "g_res = NamedArray(res_infeed, (RES,HOUR), (\"Renewable Energy Source\", \"Hour\"))"
   ]
  },
  {
   "cell_type": "code",
   "execution_count": 13,
   "metadata": {},
   "outputs": [
    {
     "data": {
      "text/html": [
       "5"
      ],
      "text/plain": [
       "5"
      ]
     },
     "execution_count": 13,
     "metadata": {},
     "output_type": "execute_result"
    }
   ],
   "source": [
    "storage_max = 15\n",
    "storage_gen = 5"
   ]
  },
  {
   "cell_type": "code",
   "execution_count": 14,
   "metadata": {},
   "outputs": [
    {
     "data": {
      "text/latex": [
       "$$ \\begin{alignat*}{1}\\min\\quad & 0\\\\\n",
       "\\text{Subject to} \\quad\\end{alignat*}\n",
       " $$"
      ],
      "text/plain": [
       "Feasibility problem with:\n",
       " * 0 linear constraints\n",
       " * 0 variables\n",
       "Solver is ClpMathProg"
      ]
     },
     "execution_count": 14,
     "metadata": {},
     "output_type": "execute_result"
    }
   ],
   "source": [
    "dispatch_problem = Model(solver=ClpSolver())"
   ]
  },
  {
   "cell_type": "code",
   "execution_count": 15,
   "metadata": {},
   "outputs": [],
   "source": [
    "@variables dispatch_problem begin       \n",
    "        G[DISP, HOUR] >= 0 # generation from power plants\n",
    "        G_stor[HOUR] >= 0 #generation from storage\n",
    "        L[HOUR] >= 0 #current storage level\n",
    "        D_stor[HOUR] >= 0 #consumption from storage \n",
    "end"
   ]
  },
  {
   "cell_type": "code",
   "execution_count": 16,
   "metadata": {},
   "outputs": [
    {
     "data": {
      "text/html": [
       "0"
      ],
      "text/plain": [
       "0"
      ]
     },
     "execution_count": 16,
     "metadata": {},
     "output_type": "execute_result"
    }
   ],
   "source": [
    "JuMP.fix(L[1], 0)\n",
    "JuMP.fix(L[24], 0)\n",
    "JuMP.fix(G_stor[1], 0)"
   ]
  },
  {
   "cell_type": "markdown",
   "metadata": {},
   "source": [
    "Objective function\n",
    "$$ \\sum_{DISP} \\sum_{HOUR} mc_{disp} * G_{disp, hour} $$"
   ]
  },
  {
   "cell_type": "code",
   "execution_count": 17,
   "metadata": {},
   "outputs": [],
   "source": [
    "@objective(dispatch_problem, Min, \n",
    "    sum(mc[disp] * G[disp, hour] for disp in DISP, hour in HOUR));"
   ]
  },
  {
   "cell_type": "markdown",
   "metadata": {},
   "source": [
    "s.t.\n",
    "\n",
    "$$ \\sum_{DISP} G^{disp}_{hour} + G^{stor}_{hour} + \\sum_{RES} g^{res}_{hour} = D^{stor} + demand_{hour} \\quad \\forall hour \\in HOUR $$"
   ]
  },
  {
   "cell_type": "code",
   "execution_count": 18,
   "metadata": {},
   "outputs": [],
   "source": [
    "@constraint(dispatch_problem, Market_Clearing[hour=HOUR],\n",
    "    sum(G[disp, hour] for disp in DISP)\n",
    "    + sum(g_res[res, hour] for res in RES)\n",
    "    + G_stor[hour]\n",
    "    ==\n",
    "    demand[hour] \n",
    "    + D_stor[hour]\n",
    ");"
   ]
  },
  {
   "cell_type": "markdown",
   "metadata": {},
   "source": [
    "$$ G^{disp}_{hour} \\le g^{max}_{disp} \\quad \\forall disp \\in DISP, hour \\in HOUR$$"
   ]
  },
  {
   "cell_type": "code",
   "execution_count": 19,
   "metadata": {},
   "outputs": [],
   "source": [
    "@constraint(dispatch_problem, Max_Generation[disp=DISP, hour=HOUR],\n",
    "    G[disp, hour] <= g_max[disp]\n",
    ");"
   ]
  },
  {
   "cell_type": "markdown",
   "metadata": {},
   "source": [
    "$$ L_{hour} = L_{hour - 1} + 0.88 * D^{stor}_{hour} - G^{stor}_{hour} \\quad \\forall hour \\in HOUR_{2,...,24} $$"
   ]
  },
  {
   "cell_type": "code",
   "execution_count": 20,
   "metadata": {},
   "outputs": [],
   "source": [
    "@constraint(dispatch_problem, Storage_Level[hour=HOUR; hour != 1],\n",
    "    L[hour] == L[hour-1] + 0.88*D_stor[hour] - G_stor[hour]\n",
    ");"
   ]
  },
  {
   "cell_type": "markdown",
   "metadata": {},
   "source": [
    "$$ L_{hour} \\le stor^{max} \\quad \\forall hour \\in HOUR$$ "
   ]
  },
  {
   "cell_type": "code",
   "execution_count": 56,
   "metadata": {},
   "outputs": [],
   "source": [
    "@constraint(dispatch_problem, Max_Storage_Level[hour=HOUR],\n",
    "    L[hour] <= storage_max\n",
    ");"
   ]
  },
  {
   "cell_type": "markdown",
   "metadata": {},
   "source": [
    "$$ G^{stor}_{hour} \\le stor^{gen} \\quad \\forall hour \\in HOUR$$ "
   ]
  },
  {
   "cell_type": "code",
   "execution_count": 57,
   "metadata": {},
   "outputs": [],
   "source": [
    "@constraint(dispatch_problem, Max_Storage_Generation[hour=HOUR],\n",
    "    G_stor[hour] <= storage_gen\n",
    ");"
   ]
  },
  {
   "cell_type": "markdown",
   "metadata": {},
   "source": [
    "$$ D^{stor}_{hour} \\le stor^{gen} \\quad \\forall hour \\in HOUR$$ "
   ]
  },
  {
   "cell_type": "code",
   "execution_count": 58,
   "metadata": {},
   "outputs": [],
   "source": [
    "@constraint(dispatch_problem, Max_Storage_Withdraw[hour=HOUR],\n",
    "    D_stor[hour] <= storage_gen\n",
    ");"
   ]
  },
  {
   "cell_type": "code",
   "execution_count": 111,
   "metadata": {},
   "outputs": [],
   "source": [
    "# Task 2: Set the storage level to 50% in the first time step\n",
    "@constraint(dispatch_problem, storage_restr[hour= 1],\n",
    "    L[hour] == 0.5*storage_max\n",
    ");"
   ]
  },
  {
   "cell_type": "code",
   "execution_count": 113,
   "metadata": {},
   "outputs": [],
   "source": [
    "# Task 2: Set the storage level to 50% in the first and last time step\n",
    "@constraint(dispatch_problem, storage_restr[hour= [1,24]],\n",
    "    L[hour] == 0.5*storage_max\n",
    ");"
   ]
  },
  {
   "cell_type": "code",
   "execution_count": 147,
   "metadata": {},
   "outputs": [],
   "source": [
    "# Task 2: Force the start- and endlevel to be equal, without specifying a value\n",
    "@constraint(dispatch_problem, storage_restr[hour= [1, 24]],\n",
    "    L[hour] == L[hour]\n",
    ");"
   ]
  },
  {
   "cell_type": "code",
   "execution_count": 149,
   "metadata": {},
   "outputs": [
    {
     "data": {
      "text/plain": [
       ":Optimal"
      ]
     },
     "execution_count": 149,
     "metadata": {},
     "output_type": "execute_result"
    }
   ],
   "source": [
    "solve(dispatch_problem)"
   ]
  },
  {
   "cell_type": "markdown",
   "metadata": {},
   "source": [
    "## Results"
   ]
  },
  {
   "cell_type": "markdown",
   "metadata": {},
   "source": [
    "`vcat` concatenates the matrix G and the renewable infeed vertically. The  `'` transposes the matrix"
   ]
  },
  {
   "cell_type": "code",
   "execution_count": 150,
   "metadata": {
    "scrolled": true
   },
   "outputs": [
    {
     "data": {
      "text/plain": [
       "24×7 Array{Float64,2}:\n",
       "  0.0   0.0   0.0     0.0  12.92   0.0    47.08 \n",
       " 20.0  30.0   0.0     0.0  13.48   0.0     0.0  \n",
       " 20.0  30.0  11.3493  0.0  14.16   0.0     0.0  \n",
       " 20.0  30.0   0.0     0.0  15.4    0.1     0.0  \n",
       " 20.0  30.0   0.0     0.0  16.08   0.675   0.0  \n",
       " 20.0  30.0   1.425   0.0  15.8    1.775   0.0  \n",
       " 20.0  30.0  10.615   0.0  15.16   3.225   0.0  \n",
       " 20.0  30.0  14.88    0.0  15.12   5.0     0.0  \n",
       " 20.0  30.0   9.095   0.0  14.88   7.025   0.0  \n",
       " 20.0  30.0   4.815   0.0  14.76   9.425   0.0  \n",
       " 20.0  30.0   2.115   0.0  15.16  10.725   0.0  \n",
       " 20.0  30.0   1.735   0.0  15.44  10.825   0.0  \n",
       " 20.0  30.0   5.9     0.0  15.0    9.1     0.0  \n",
       " 20.0  30.0  10.065   0.0  13.76   7.175   0.0  \n",
       " 20.0  30.0  15.115   0.0  11.96   4.925   0.0  \n",
       " 20.0  30.0  19.815   0.0  10.36   2.825   0.0  \n",
       " 20.0  30.0  23.68    0.0   9.32   1.0     0.0  \n",
       " 20.0  30.0  25.0     0.0   8.36   0.025   1.615\n",
       " 20.0  30.0  25.0     0.0   6.08   0.0     7.92 \n",
       " 20.0  30.0  25.0     0.0   3.92   0.0     9.08 \n",
       " 20.0  30.0  25.0     0.0   3.4    0.0     7.6  \n",
       " 20.0  30.0  25.0     0.0   3.56   0.0     3.44 \n",
       " 20.0  30.0  25.0     0.0   4.52   0.0     0.48 \n",
       " 20.0  30.0  14.8     0.0   6.2    0.0     0.0  "
      ]
     },
     "execution_count": 150,
     "metadata": {},
     "output_type": "execute_result"
    }
   ],
   "source": [
    "result = vcat(getvalue(G).innerArray, g_res, getvalue(G_stor).innerArray')'"
   ]
  },
  {
   "cell_type": "code",
   "execution_count": 151,
   "metadata": {
    "scrolled": true
   },
   "outputs": [
    {
     "data": {
      "text/plain": [
       "24×7 Named Array{Float64,2}\n",
       "Hour ╲ Technology │     Nuclear      Lignite  …        Solar  Storage gen\n",
       "──────────────────┼──────────────────────────────────────────────────────\n",
       "1                 │         0.0          0.0  …          0.0        47.08\n",
       "2                 │        20.0         30.0             0.0          0.0\n",
       "3                 │        20.0         30.0             0.0          0.0\n",
       "4                 │        20.0         30.0             0.1          0.0\n",
       "5                 │        20.0         30.0           0.675          0.0\n",
       "6                 │        20.0         30.0           1.775          0.0\n",
       "7                 │        20.0         30.0           3.225          0.0\n",
       "8                 │        20.0         30.0             5.0          0.0\n",
       "9                 │        20.0         30.0           7.025          0.0\n",
       "10                │        20.0         30.0           9.425          0.0\n",
       "11                │        20.0         30.0          10.725          0.0\n",
       "12                │        20.0         30.0          10.825          0.0\n",
       "13                │        20.0         30.0             9.1          0.0\n",
       "14                │        20.0         30.0           7.175          0.0\n",
       "15                │        20.0         30.0           4.925          0.0\n",
       "16                │        20.0         30.0           2.825          0.0\n",
       "17                │        20.0         30.0             1.0          0.0\n",
       "18                │        20.0         30.0           0.025        1.615\n",
       "19                │        20.0         30.0             0.0         7.92\n",
       "20                │        20.0         30.0             0.0         9.08\n",
       "21                │        20.0         30.0             0.0          7.6\n",
       "22                │        20.0         30.0             0.0         3.44\n",
       "23                │        20.0         30.0             0.0         0.48\n",
       "24                │        20.0         30.0  …          0.0          0.0"
      ]
     },
     "execution_count": 151,
     "metadata": {},
     "output_type": "execute_result"
    }
   ],
   "source": [
    "generation = NamedArray(result, (HOUR, TECHNOLOGIES), (\"Hour\", \"Technology\"))"
   ]
  },
  {
   "cell_type": "code",
   "execution_count": 152,
   "metadata": {
    "scrolled": true
   },
   "outputs": [
    {
     "data": {
      "text/plain": [
       "24-element Array{Float64,1}:\n",
       "  -0.0   \n",
       "  -4.48  \n",
       " -19.5093\n",
       "  -7.5   \n",
       "  -2.755 \n",
       "  -0.0   \n",
       "  -0.0   \n",
       "  -0.0   \n",
       "  -0.0   \n",
       "  -0.0   \n",
       "  -0.0   \n",
       "  -0.0   \n",
       "  -0.0   \n",
       "  -0.0   \n",
       "  -0.0   \n",
       "  -0.0   \n",
       "  -0.0   \n",
       "  -0.0   \n",
       "  -0.0   \n",
       "  -0.0   \n",
       "  -0.0   \n",
       "  -0.0   \n",
       "  -0.0   \n",
       "  -0.0   "
      ]
     },
     "execution_count": 152,
     "metadata": {},
     "output_type": "execute_result"
    }
   ],
   "source": [
    "storage_withdraw = -getvalue(D_stor).innerArray"
   ]
  },
  {
   "cell_type": "code",
   "execution_count": 153,
   "metadata": {},
   "outputs": [
    {
     "data": {
      "text/plain": [
       "24-element Array{Float64,1}:\n",
       "  7.5   \n",
       " 11.4424\n",
       " 28.6106\n",
       " 35.2106\n",
       " 37.635 \n",
       " 37.635 \n",
       " 37.635 \n",
       " 37.635 \n",
       " 37.635 \n",
       " 37.635 \n",
       " 37.635 \n",
       " 37.635 \n",
       " 37.635 \n",
       " 37.635 \n",
       " 37.635 \n",
       " 37.635 \n",
       " 37.635 \n",
       " 36.02  \n",
       " 28.1   \n",
       " 19.02  \n",
       " 11.42  \n",
       "  7.98  \n",
       "  7.5   \n",
       "  7.5   "
      ]
     },
     "execution_count": 153,
     "metadata": {},
     "output_type": "execute_result"
    }
   ],
   "source": [
    "storage_level = getvalue(L).innerArray"
   ]
  },
  {
   "cell_type": "code",
   "execution_count": 154,
   "metadata": {},
   "outputs": [],
   "source": [
    "@userplot Areaplot\n",
    "@recipe function f(a::Areaplot)\n",
    "    data = cumsum(a.args[1], 2)\n",
    "\n",
    "    seriestype := :line\n",
    "    fillrange := 0\n",
    "\n",
    "    @series begin\n",
    "        data[:,1]\n",
    "    end\n",
    "\n",
    "    for i in 2:size(data, 2)\n",
    "    @series begin\n",
    "            fillrange := data[:,i-1]\n",
    "            data[:,i]\n",
    "        end\n",
    "    end\n",
    "end"
   ]
  },
  {
   "cell_type": "markdown",
   "metadata": {},
   "source": [
    "You can also save plots in common formats like pdf, png or svg using the `savefig()` function."
   ]
  },
  {
   "cell_type": "code",
   "execution_count": 142,
   "metadata": {
    "scrolled": true
   },
   "outputs": [
    {
     "data": {
      "image/svg+xml": [
       "<?xml version=\"1.0\" encoding=\"utf-8\"?>\n",
       "<svg xmlns=\"http://www.w3.org/2000/svg\" xmlns:xlink=\"http://www.w3.org/1999/xlink\" width=\"600\" height=\"400\" viewBox=\"0 0 600 400\">\n",
       "<defs>\n",
       "  <clipPath id=\"clip1000\">\n",
       "    <rect x=\"0\" y=\"0\" width=\"600\" height=\"400\"/>\n",
       "  </clipPath>\n",
       "</defs>\n",
       "<polygon clip-path=\"url(#clip1000)\" points=\"\n",
       "0,400 600,400 600,0 0,0 \n",
       "  \" fill=\"#ffffff\" fill-opacity=\"1\"/>\n",
       "<defs>\n",
       "  <clipPath id=\"clip1001\">\n",
       "    <rect x=\"120\" y=\"0\" width=\"421\" height=\"400\"/>\n",
       "  </clipPath>\n",
       "</defs>\n",
       "<polygon clip-path=\"url(#clip1000)\" points=\"\n",
       "29.1292,291.367 580.315,291.367 580.315,31.4961 29.1292,31.4961 \n",
       "  \" fill=\"#ffffff\" fill-opacity=\"1\"/>\n",
       "<defs>\n",
       "  <clipPath id=\"clip1002\">\n",
       "    <rect x=\"29\" y=\"31\" width=\"552\" height=\"261\"/>\n",
       "  </clipPath>\n",
       "</defs>\n",
       "<polyline clip-path=\"url(#clip1002)\" style=\"stroke:#000000; stroke-width:0.5; stroke-opacity:0.1; fill:none\" points=\"\n",
       "  124.988,291.367 124.988,31.4961 \n",
       "  \"/>\n",
       "<polyline clip-path=\"url(#clip1002)\" style=\"stroke:#000000; stroke-width:0.5; stroke-opacity:0.1; fill:none\" points=\"\n",
       "  244.811,291.367 244.811,31.4961 \n",
       "  \"/>\n",
       "<polyline clip-path=\"url(#clip1002)\" style=\"stroke:#000000; stroke-width:0.5; stroke-opacity:0.1; fill:none\" points=\"\n",
       "  364.634,291.367 364.634,31.4961 \n",
       "  \"/>\n",
       "<polyline clip-path=\"url(#clip1002)\" style=\"stroke:#000000; stroke-width:0.5; stroke-opacity:0.1; fill:none\" points=\"\n",
       "  484.457,291.367 484.457,31.4961 \n",
       "  \"/>\n",
       "<polyline clip-path=\"url(#clip1002)\" style=\"stroke:#000000; stroke-width:0.5; stroke-opacity:0.1; fill:none\" points=\"\n",
       "  29.1292,244.644 580.315,244.644 \n",
       "  \"/>\n",
       "<polyline clip-path=\"url(#clip1002)\" style=\"stroke:#000000; stroke-width:0.5; stroke-opacity:0.1; fill:none\" points=\"\n",
       "  29.1292,196.745 580.315,196.745 \n",
       "  \"/>\n",
       "<polyline clip-path=\"url(#clip1002)\" style=\"stroke:#000000; stroke-width:0.5; stroke-opacity:0.1; fill:none\" points=\"\n",
       "  29.1292,148.847 580.315,148.847 \n",
       "  \"/>\n",
       "<polyline clip-path=\"url(#clip1002)\" style=\"stroke:#000000; stroke-width:0.5; stroke-opacity:0.1; fill:none\" points=\"\n",
       "  29.1292,100.949 580.315,100.949 \n",
       "  \"/>\n",
       "<polyline clip-path=\"url(#clip1002)\" style=\"stroke:#000000; stroke-width:0.5; stroke-opacity:0.1; fill:none\" points=\"\n",
       "  29.1292,53.0503 580.315,53.0503 \n",
       "  \"/>\n",
       "<polyline clip-path=\"url(#clip1000)\" style=\"stroke:#000000; stroke-width:1; stroke-opacity:1; fill:none\" points=\"\n",
       "  29.1292,291.367 580.315,291.367 \n",
       "  \"/>\n",
       "<polyline clip-path=\"url(#clip1000)\" style=\"stroke:#000000; stroke-width:1; stroke-opacity:1; fill:none\" points=\"\n",
       "  29.1292,291.367 29.1292,31.4961 \n",
       "  \"/>\n",
       "<polyline clip-path=\"url(#clip1000)\" style=\"stroke:#000000; stroke-width:1; stroke-opacity:1; fill:none\" points=\"\n",
       "  124.988,291.367 124.988,287.469 \n",
       "  \"/>\n",
       "<polyline clip-path=\"url(#clip1000)\" style=\"stroke:#000000; stroke-width:1; stroke-opacity:1; fill:none\" points=\"\n",
       "  244.811,291.367 244.811,287.469 \n",
       "  \"/>\n",
       "<polyline clip-path=\"url(#clip1000)\" style=\"stroke:#000000; stroke-width:1; stroke-opacity:1; fill:none\" points=\"\n",
       "  364.634,291.367 364.634,287.469 \n",
       "  \"/>\n",
       "<polyline clip-path=\"url(#clip1000)\" style=\"stroke:#000000; stroke-width:1; stroke-opacity:1; fill:none\" points=\"\n",
       "  484.457,291.367 484.457,287.469 \n",
       "  \"/>\n",
       "<polyline clip-path=\"url(#clip1000)\" style=\"stroke:#000000; stroke-width:1; stroke-opacity:1; fill:none\" points=\"\n",
       "  29.1292,244.644 37.397,244.644 \n",
       "  \"/>\n",
       "<polyline clip-path=\"url(#clip1000)\" style=\"stroke:#000000; stroke-width:1; stroke-opacity:1; fill:none\" points=\"\n",
       "  29.1292,196.745 37.397,196.745 \n",
       "  \"/>\n",
       "<polyline clip-path=\"url(#clip1000)\" style=\"stroke:#000000; stroke-width:1; stroke-opacity:1; fill:none\" points=\"\n",
       "  29.1292,148.847 37.397,148.847 \n",
       "  \"/>\n",
       "<polyline clip-path=\"url(#clip1000)\" style=\"stroke:#000000; stroke-width:1; stroke-opacity:1; fill:none\" points=\"\n",
       "  29.1292,100.949 37.397,100.949 \n",
       "  \"/>\n",
       "<polyline clip-path=\"url(#clip1000)\" style=\"stroke:#000000; stroke-width:1; stroke-opacity:1; fill:none\" points=\"\n",
       "  29.1292,53.0503 37.397,53.0503 \n",
       "  \"/>\n",
       "<g clip-path=\"url(#clip1000)\">\n",
       "<text style=\"fill:#000000; fill-opacity:1; font-family:Arial,Helvetica Neue,Helvetica,sans-serif; font-size:12; text-anchor:middle;\" transform=\"rotate(0, 124.988, 305.167)\" x=\"124.988\" y=\"305.167\">5</text>\n",
       "</g>\n",
       "<g clip-path=\"url(#clip1000)\">\n",
       "<text style=\"fill:#000000; fill-opacity:1; font-family:Arial,Helvetica Neue,Helvetica,sans-serif; font-size:12; text-anchor:middle;\" transform=\"rotate(0, 244.811, 305.167)\" x=\"244.811\" y=\"305.167\">10</text>\n",
       "</g>\n",
       "<g clip-path=\"url(#clip1000)\">\n",
       "<text style=\"fill:#000000; fill-opacity:1; font-family:Arial,Helvetica Neue,Helvetica,sans-serif; font-size:12; text-anchor:middle;\" transform=\"rotate(0, 364.634, 305.167)\" x=\"364.634\" y=\"305.167\">15</text>\n",
       "</g>\n",
       "<g clip-path=\"url(#clip1000)\">\n",
       "<text style=\"fill:#000000; fill-opacity:1; font-family:Arial,Helvetica Neue,Helvetica,sans-serif; font-size:12; text-anchor:middle;\" transform=\"rotate(0, 484.457, 305.167)\" x=\"484.457\" y=\"305.167\">20</text>\n",
       "</g>\n",
       "<g clip-path=\"url(#clip1000)\">\n",
       "<text style=\"fill:#000000; fill-opacity:1; font-family:Arial,Helvetica Neue,Helvetica,sans-serif; font-size:12; text-anchor:end;\" transform=\"rotate(0, 23.1292, 249.144)\" x=\"23.1292\" y=\"249.144\">0</text>\n",
       "</g>\n",
       "<g clip-path=\"url(#clip1000)\">\n",
       "<text style=\"fill:#000000; fill-opacity:1; font-family:Arial,Helvetica Neue,Helvetica,sans-serif; font-size:12; text-anchor:end;\" transform=\"rotate(0, 23.1292, 201.245)\" x=\"23.1292\" y=\"201.245\">20</text>\n",
       "</g>\n",
       "<g clip-path=\"url(#clip1000)\">\n",
       "<text style=\"fill:#000000; fill-opacity:1; font-family:Arial,Helvetica Neue,Helvetica,sans-serif; font-size:12; text-anchor:end;\" transform=\"rotate(0, 23.1292, 153.347)\" x=\"23.1292\" y=\"153.347\">40</text>\n",
       "</g>\n",
       "<g clip-path=\"url(#clip1000)\">\n",
       "<text style=\"fill:#000000; fill-opacity:1; font-family:Arial,Helvetica Neue,Helvetica,sans-serif; font-size:12; text-anchor:end;\" transform=\"rotate(0, 23.1292, 105.449)\" x=\"23.1292\" y=\"105.449\">60</text>\n",
       "</g>\n",
       "<g clip-path=\"url(#clip1000)\">\n",
       "<text style=\"fill:#000000; fill-opacity:1; font-family:Arial,Helvetica Neue,Helvetica,sans-serif; font-size:12; text-anchor:end;\" transform=\"rotate(0, 23.1292, 57.5503)\" x=\"23.1292\" y=\"57.5503\">80</text>\n",
       "</g>\n",
       "<g clip-path=\"url(#clip1000)\">\n",
       "<text style=\"fill:#000000; fill-opacity:1; font-family:Arial,Helvetica Neue,Helvetica,sans-serif; font-size:21; text-anchor:middle;\" transform=\"rotate(0, 304.722, 18)\" x=\"304.722\" y=\"18\">Dispatch</text>\n",
       "</g>\n",
       "<polygon clip-path=\"url(#clip1002)\" points=\"\n",
       "29.1292,244.644 53.0938,196.745 77.0584,196.745 101.023,196.745 124.988,196.745 148.952,196.745 172.917,196.745 196.881,196.745 220.846,196.745 244.811,196.745 \n",
       "  268.775,196.745 292.74,196.745 316.704,196.745 340.669,196.745 364.634,196.745 388.598,196.745 412.563,196.745 436.527,196.745 460.492,196.745 484.457,196.745 \n",
       "  508.421,196.745 532.386,196.745 556.35,196.745 580.315,196.745 580.315,244.644 556.35,244.644 532.386,244.644 508.421,244.644 484.457,244.644 460.492,244.644 \n",
       "  436.527,244.644 412.563,244.644 388.598,244.644 364.634,244.644 340.669,244.644 316.704,244.644 292.74,244.644 268.775,244.644 244.811,244.644 220.846,244.644 \n",
       "  196.881,244.644 172.917,244.644 148.952,244.644 124.988,244.644 101.023,244.644 77.0584,244.644 53.0938,244.644 29.1292,244.644 \n",
       "  \" fill=\"#ff0000\" fill-opacity=\"1\"/>\n",
       "<polyline clip-path=\"url(#clip1002)\" style=\"stroke:#ff0000; stroke-width:1; stroke-opacity:1; fill:none\" points=\"\n",
       "  29.1292,244.644 53.0938,196.745 77.0584,196.745 101.023,196.745 124.988,196.745 148.952,196.745 172.917,196.745 196.881,196.745 220.846,196.745 244.811,196.745 \n",
       "  268.775,196.745 292.74,196.745 316.704,196.745 340.669,196.745 364.634,196.745 388.598,196.745 412.563,196.745 436.527,196.745 460.492,196.745 484.457,196.745 \n",
       "  508.421,196.745 532.386,196.745 556.35,196.745 580.315,196.745 \n",
       "  \"/>\n",
       "<polygon clip-path=\"url(#clip1002)\" points=\"\n",
       "29.1292,244.644 53.0938,124.898 77.0584,124.898 101.023,124.898 124.988,124.898 148.952,124.898 172.917,124.898 196.881,124.898 220.846,124.898 244.811,124.898 \n",
       "  268.775,124.898 292.74,124.898 316.704,124.898 340.669,124.898 364.634,124.898 388.598,124.898 412.563,124.898 436.527,124.898 460.492,124.898 484.457,124.898 \n",
       "  508.421,124.898 532.386,124.898 556.35,124.898 580.315,124.898 580.315,196.745 556.35,196.745 532.386,196.745 508.421,196.745 484.457,196.745 460.492,196.745 \n",
       "  436.527,196.745 412.563,196.745 388.598,196.745 364.634,196.745 340.669,196.745 316.704,196.745 292.74,196.745 268.775,196.745 244.811,196.745 220.846,196.745 \n",
       "  196.881,196.745 172.917,196.745 148.952,196.745 124.988,196.745 101.023,196.745 77.0584,196.745 53.0938,196.745 29.1292,244.644 \n",
       "  \" fill=\"#a52a2a\" fill-opacity=\"1\"/>\n",
       "<polyline clip-path=\"url(#clip1002)\" style=\"stroke:#a52a2a; stroke-width:1; stroke-opacity:1; fill:none\" points=\"\n",
       "  29.1292,244.644 53.0938,124.898 77.0584,124.898 101.023,124.898 124.988,124.898 148.952,124.898 172.917,124.898 196.881,124.898 220.846,124.898 244.811,124.898 \n",
       "  268.775,124.898 292.74,124.898 316.704,124.898 340.669,124.898 364.634,124.898 388.598,124.898 412.563,124.898 436.527,124.898 460.492,124.898 484.457,124.898 \n",
       "  508.421,124.898 532.386,124.898 556.35,124.898 580.315,124.898 \n",
       "  \"/>\n",
       "<polygon clip-path=\"url(#clip1002)\" points=\"\n",
       "29.1292,244.644 53.0938,124.898 77.0584,97.7171 101.023,124.898 124.988,124.898 148.952,121.485 172.917,99.4758 196.881,89.2614 220.846,103.116 244.811,113.366 \n",
       "  268.775,119.833 292.74,120.743 316.704,110.768 340.669,100.793 364.634,88.6986 388.598,77.4425 412.563,68.1862 436.527,65.0249 460.492,65.0249 484.457,65.0249 \n",
       "  508.421,65.0249 532.386,65.0249 556.35,65.0249 580.315,89.453 580.315,124.898 556.35,124.898 532.386,124.898 508.421,124.898 484.457,124.898 460.492,124.898 \n",
       "  436.527,124.898 412.563,124.898 388.598,124.898 364.634,124.898 340.669,124.898 316.704,124.898 292.74,124.898 268.775,124.898 244.811,124.898 220.846,124.898 \n",
       "  196.881,124.898 172.917,124.898 148.952,124.898 124.988,124.898 101.023,124.898 77.0584,124.898 53.0938,124.898 29.1292,244.644 \n",
       "  \" fill=\"#808080\" fill-opacity=\"1\"/>\n",
       "<polyline clip-path=\"url(#clip1002)\" style=\"stroke:#808080; stroke-width:1; stroke-opacity:1; fill:none\" points=\"\n",
       "  29.1292,244.644 53.0938,124.898 77.0584,97.7171 101.023,124.898 124.988,124.898 148.952,121.485 172.917,99.4758 196.881,89.2614 220.846,103.116 244.811,113.366 \n",
       "  268.775,119.833 292.74,120.743 316.704,110.768 340.669,100.793 364.634,88.6986 388.598,77.4425 412.563,68.1862 436.527,65.0249 460.492,65.0249 484.457,65.0249 \n",
       "  508.421,65.0249 532.386,65.0249 556.35,65.0249 580.315,89.453 \n",
       "  \"/>\n",
       "<polygon clip-path=\"url(#clip1002)\" points=\"\n",
       "29.1292,244.644 53.0938,124.898 77.0584,97.7171 101.023,124.898 124.988,124.898 148.952,121.485 172.917,99.4758 196.881,89.2614 220.846,103.116 244.811,113.366 \n",
       "  268.775,119.833 292.74,120.743 316.704,110.768 340.669,100.793 364.634,88.6986 388.598,77.4425 412.563,68.1862 436.527,65.0249 460.492,65.0249 484.457,65.0249 \n",
       "  508.421,65.0249 532.386,65.0249 556.35,65.0249 580.315,89.453 580.315,89.453 556.35,65.0249 532.386,65.0249 508.421,65.0249 484.457,65.0249 460.492,65.0249 \n",
       "  436.527,65.0249 412.563,68.1862 388.598,77.4425 364.634,88.6986 340.669,100.793 316.704,110.768 292.74,120.743 268.775,119.833 244.811,113.366 220.846,103.116 \n",
       "  196.881,89.2614 172.917,99.4758 148.952,121.485 124.988,124.898 101.023,124.898 77.0584,97.7171 53.0938,124.898 29.1292,244.644 \n",
       "  \" fill=\"#ffa500\" fill-opacity=\"1\"/>\n",
       "<polyline clip-path=\"url(#clip1002)\" style=\"stroke:#ffa500; stroke-width:1; stroke-opacity:1; fill:none\" points=\"\n",
       "  29.1292,244.644 53.0938,124.898 77.0584,97.7171 101.023,124.898 124.988,124.898 148.952,121.485 172.917,99.4758 196.881,89.2614 220.846,103.116 244.811,113.366 \n",
       "  268.775,119.833 292.74,120.743 316.704,110.768 340.669,100.793 364.634,88.6986 388.598,77.4425 412.563,68.1862 436.527,65.0249 460.492,65.0249 484.457,65.0249 \n",
       "  508.421,65.0249 532.386,65.0249 556.35,65.0249 580.315,89.453 \n",
       "  \"/>\n",
       "<polygon clip-path=\"url(#clip1002)\" points=\"\n",
       "29.1292,213.701 53.0938,92.6143 77.0584,63.8051 101.023,88.0161 124.988,86.3875 148.952,83.6454 172.917,63.1688 196.881,53.0503 220.846,67.4797 244.811,78.0173 \n",
       "  268.775,83.5256 292.74,83.7651 316.704,74.844 340.669,67.8389 364.634,60.0554 388.598,52.6312 412.563,45.8656 436.527,45.0034 460.492,50.4638 484.457,55.6368 \n",
       "  508.421,56.8822 532.386,56.499 556.35,54.1999 580.315,74.6046 580.315,89.453 556.35,65.0249 532.386,65.0249 508.421,65.0249 484.457,65.0249 460.492,65.0249 \n",
       "  436.527,65.0249 412.563,68.1862 388.598,77.4425 364.634,88.6986 340.669,100.793 316.704,110.768 292.74,120.743 268.775,119.833 244.811,113.366 220.846,103.116 \n",
       "  196.881,89.2614 172.917,99.4758 148.952,121.485 124.988,124.898 101.023,124.898 77.0584,97.7171 53.0938,124.898 29.1292,244.644 \n",
       "  \" fill=\"#0000ff\" fill-opacity=\"1\"/>\n",
       "<polyline clip-path=\"url(#clip1002)\" style=\"stroke:#0000ff; stroke-width:1; stroke-opacity:1; fill:none\" points=\"\n",
       "  29.1292,213.701 53.0938,92.6143 77.0584,63.8051 101.023,88.0161 124.988,86.3875 148.952,83.6454 172.917,63.1688 196.881,53.0503 220.846,67.4797 244.811,78.0173 \n",
       "  268.775,83.5256 292.74,83.7651 316.704,74.844 340.669,67.8389 364.634,60.0554 388.598,52.6312 412.563,45.8656 436.527,45.0034 460.492,50.4638 484.457,55.6368 \n",
       "  508.421,56.8822 532.386,56.499 556.35,54.1999 580.315,74.6046 \n",
       "  \"/>\n",
       "<polygon clip-path=\"url(#clip1002)\" points=\"\n",
       "29.1292,213.701 53.0938,92.6143 77.0584,63.8051 101.023,87.7766 124.988,84.771 148.952,79.3944 172.917,55.4452 196.881,41.0757 220.846,50.6554 244.811,55.4452 \n",
       "  268.775,57.8401 292.74,57.8401 316.704,53.0503 340.669,50.6554 364.634,48.2605 388.598,45.8656 412.563,43.4706 436.527,44.9435 460.492,50.4638 484.457,55.6368 \n",
       "  508.421,56.8822 532.386,56.499 556.35,54.1999 580.315,74.6046 580.315,74.6046 556.35,54.1999 532.386,56.499 508.421,56.8822 484.457,55.6368 460.492,50.4638 \n",
       "  436.527,45.0034 412.563,45.8656 388.598,52.6312 364.634,60.0554 340.669,67.8389 316.704,74.844 292.74,83.7651 268.775,83.5256 244.811,78.0173 220.846,67.4797 \n",
       "  196.881,53.0503 172.917,63.1688 148.952,83.6454 124.988,86.3875 101.023,88.0161 77.0584,63.8051 53.0938,92.6143 29.1292,213.701 \n",
       "  \" fill=\"#ffff00\" fill-opacity=\"1\"/>\n",
       "<polyline clip-path=\"url(#clip1002)\" style=\"stroke:#ffff00; stroke-width:1; stroke-opacity:1; fill:none\" points=\"\n",
       "  29.1292,213.701 53.0938,92.6143 77.0584,63.8051 101.023,87.7766 124.988,84.771 148.952,79.3944 172.917,55.4452 196.881,41.0757 220.846,50.6554 244.811,55.4452 \n",
       "  268.775,57.8401 292.74,57.8401 316.704,53.0503 340.669,50.6554 364.634,48.2605 388.598,45.8656 412.563,43.4706 436.527,44.9435 460.492,50.4638 484.457,55.6368 \n",
       "  508.421,56.8822 532.386,56.499 556.35,54.1999 580.315,74.6046 \n",
       "  \"/>\n",
       "<polygon clip-path=\"url(#clip1002)\" points=\"\n",
       "29.1292,100.949 53.0938,92.6143 77.0584,63.8051 101.023,87.7766 124.988,84.771 148.952,79.3944 172.917,55.4452 196.881,41.0757 220.846,50.6554 244.811,55.4452 \n",
       "  268.775,57.8401 292.74,57.8401 316.704,53.0503 340.669,50.6554 364.634,48.2605 388.598,45.8656 412.563,43.4706 436.527,41.0757 460.492,31.4961 484.457,33.891 \n",
       "  508.421,38.6808 532.386,48.2605 556.35,53.0503 580.315,74.6046 580.315,74.6046 556.35,54.1999 532.386,56.499 508.421,56.8822 484.457,55.6368 460.492,50.4638 \n",
       "  436.527,44.9435 412.563,43.4706 388.598,45.8656 364.634,48.2605 340.669,50.6554 316.704,53.0503 292.74,57.8401 268.775,57.8401 244.811,55.4452 220.846,50.6554 \n",
       "  196.881,41.0757 172.917,55.4452 148.952,79.3944 124.988,84.771 101.023,87.7766 77.0584,63.8051 53.0938,92.6143 29.1292,213.701 \n",
       "  \" fill=\"#800080\" fill-opacity=\"1\"/>\n",
       "<polyline clip-path=\"url(#clip1002)\" style=\"stroke:#800080; stroke-width:1; stroke-opacity:1; fill:none\" points=\"\n",
       "  29.1292,100.949 53.0938,92.6143 77.0584,63.8051 101.023,87.7766 124.988,84.771 148.952,79.3944 172.917,55.4452 196.881,41.0757 220.846,50.6554 244.811,55.4452 \n",
       "  268.775,57.8401 292.74,57.8401 316.704,53.0503 340.669,50.6554 364.634,48.2605 388.598,45.8656 412.563,43.4706 436.527,41.0757 460.492,31.4961 484.457,33.891 \n",
       "  508.421,38.6808 532.386,48.2605 556.35,53.0503 580.315,74.6046 \n",
       "  \"/>\n",
       "<polygon clip-path=\"url(#clip1002)\" points=\"\n",
       "29.1292,244.644 53.0938,255.373 77.0584,291.367 101.023,262.605 124.988,251.242 148.952,244.644 172.917,244.644 196.881,244.644 220.846,244.644 244.811,244.644 \n",
       "  268.775,244.644 292.74,244.644 316.704,244.644 340.669,244.644 364.634,244.644 388.598,244.644 412.563,244.644 436.527,244.644 460.492,244.644 484.457,244.644 \n",
       "  508.421,244.644 532.386,244.644 556.35,244.644 580.315,244.644 580.315,244.644 556.35,244.644 532.386,244.644 508.421,244.644 484.457,244.644 460.492,244.644 \n",
       "  436.527,244.644 412.563,244.644 388.598,244.644 364.634,244.644 340.669,244.644 316.704,244.644 292.74,244.644 268.775,244.644 244.811,244.644 220.846,244.644 \n",
       "  196.881,244.644 172.917,244.644 148.952,244.644 124.988,244.644 101.023,244.644 77.0584,244.644 53.0938,244.644 29.1292,244.644 \n",
       "  \" fill=\"#800080\" fill-opacity=\"1\"/>\n",
       "<polyline clip-path=\"url(#clip1002)\" style=\"stroke:#800080; stroke-width:1; stroke-opacity:1; fill:none\" points=\"\n",
       "  29.1292,244.644 53.0938,255.373 77.0584,291.367 101.023,262.605 124.988,251.242 148.952,244.644 172.917,244.644 196.881,244.644 220.846,244.644 244.811,244.644 \n",
       "  268.775,244.644 292.74,244.644 316.704,244.644 340.669,244.644 364.634,244.644 388.598,244.644 412.563,244.644 436.527,244.644 460.492,244.644 484.457,244.644 \n",
       "  508.421,244.644 532.386,244.644 556.35,244.644 580.315,244.644 \n",
       "  \"/>\n",
       "<polyline clip-path=\"url(#clip1002)\" style=\"stroke:#000000; stroke-width:3; stroke-opacity:1; fill:none\" points=\"\n",
       "  29.1292,100.949 53.0938,103.344 77.0584,110.528 101.023,105.738 124.988,91.369 148.952,79.3944 172.917,55.4452 196.881,41.0757 220.846,50.6554 244.811,55.4452 \n",
       "  268.775,57.8401 292.74,57.8401 316.704,53.0503 340.669,50.6554 364.634,48.2605 388.598,45.8656 412.563,43.4706 436.527,41.0757 460.492,31.4961 484.457,33.891 \n",
       "  508.421,38.6808 532.386,48.2605 556.35,53.0503 580.315,74.6046 \n",
       "  \"/>\n",
       "<polygon clip-path=\"url(#clip1000)\" points=\"\n",
       "409.357,255.367 562.315,255.367 562.315,104.167 409.357,104.167 \n",
       "  \" fill=\"#ffffff\" fill-opacity=\"1\"/>\n",
       "<polyline clip-path=\"url(#clip1000)\" style=\"stroke:#000000; stroke-width:1; stroke-opacity:1; fill:none\" points=\"\n",
       "  409.357,255.367 562.315,255.367 562.315,104.167 409.357,104.167 409.357,255.367 \n",
       "  \"/>\n",
       "<polygon clip-path=\"url(#clip1000)\" points=\"\n",
       "415.357,125.335 451.357,125.335 451.357,113.239 415.357,113.239 415.357,125.335 \n",
       "  \" fill=\"#ff0000\" fill-opacity=\"1\"/>\n",
       "<polyline clip-path=\"url(#clip1000)\" style=\"stroke:#ff0000; stroke-width:1; stroke-opacity:1; fill:none\" points=\"\n",
       "  415.357,113.239 451.357,113.239 \n",
       "  \"/>\n",
       "<g clip-path=\"url(#clip1000)\">\n",
       "<text style=\"fill:#000000; fill-opacity:1; font-family:Arial,Helvetica Neue,Helvetica,sans-serif; font-size:12; text-anchor:start;\" transform=\"rotate(0, 457.357, 123.787)\" x=\"457.357\" y=\"123.787\">Nuclear</text>\n",
       "</g>\n",
       "<polygon clip-path=\"url(#clip1000)\" points=\"\n",
       "415.357,140.455 451.357,140.455 451.357,128.359 415.357,128.359 415.357,140.455 \n",
       "  \" fill=\"#a52a2a\" fill-opacity=\"1\"/>\n",
       "<polyline clip-path=\"url(#clip1000)\" style=\"stroke:#a52a2a; stroke-width:1; stroke-opacity:1; fill:none\" points=\"\n",
       "  415.357,128.359 451.357,128.359 \n",
       "  \"/>\n",
       "<g clip-path=\"url(#clip1000)\">\n",
       "<text style=\"fill:#000000; fill-opacity:1; font-family:Arial,Helvetica Neue,Helvetica,sans-serif; font-size:12; text-anchor:start;\" transform=\"rotate(0, 457.357, 138.907)\" x=\"457.357\" y=\"138.907\">Lignite</text>\n",
       "</g>\n",
       "<polygon clip-path=\"url(#clip1000)\" points=\"\n",
       "415.357,155.575 451.357,155.575 451.357,143.479 415.357,143.479 415.357,155.575 \n",
       "  \" fill=\"#808080\" fill-opacity=\"1\"/>\n",
       "<polyline clip-path=\"url(#clip1000)\" style=\"stroke:#808080; stroke-width:1; stroke-opacity:1; fill:none\" points=\"\n",
       "  415.357,143.479 451.357,143.479 \n",
       "  \"/>\n",
       "<g clip-path=\"url(#clip1000)\">\n",
       "<text style=\"fill:#000000; fill-opacity:1; font-family:Arial,Helvetica Neue,Helvetica,sans-serif; font-size:12; text-anchor:start;\" transform=\"rotate(0, 457.357, 154.027)\" x=\"457.357\" y=\"154.027\">Hard coal</text>\n",
       "</g>\n",
       "<polygon clip-path=\"url(#clip1000)\" points=\"\n",
       "415.357,170.695 451.357,170.695 451.357,158.599 415.357,158.599 415.357,170.695 \n",
       "  \" fill=\"#ffa500\" fill-opacity=\"1\"/>\n",
       "<polyline clip-path=\"url(#clip1000)\" style=\"stroke:#ffa500; stroke-width:1; stroke-opacity:1; fill:none\" points=\"\n",
       "  415.357,158.599 451.357,158.599 \n",
       "  \"/>\n",
       "<g clip-path=\"url(#clip1000)\">\n",
       "<text style=\"fill:#000000; fill-opacity:1; font-family:Arial,Helvetica Neue,Helvetica,sans-serif; font-size:12; text-anchor:start;\" transform=\"rotate(0, 457.357, 169.147)\" x=\"457.357\" y=\"169.147\">Natural gas</text>\n",
       "</g>\n",
       "<polygon clip-path=\"url(#clip1000)\" points=\"\n",
       "415.357,185.815 451.357,185.815 451.357,173.719 415.357,173.719 415.357,185.815 \n",
       "  \" fill=\"#0000ff\" fill-opacity=\"1\"/>\n",
       "<polyline clip-path=\"url(#clip1000)\" style=\"stroke:#0000ff; stroke-width:1; stroke-opacity:1; fill:none\" points=\"\n",
       "  415.357,173.719 451.357,173.719 \n",
       "  \"/>\n",
       "<g clip-path=\"url(#clip1000)\">\n",
       "<text style=\"fill:#000000; fill-opacity:1; font-family:Arial,Helvetica Neue,Helvetica,sans-serif; font-size:12; text-anchor:start;\" transform=\"rotate(0, 457.357, 184.267)\" x=\"457.357\" y=\"184.267\">Wind</text>\n",
       "</g>\n",
       "<polygon clip-path=\"url(#clip1000)\" points=\"\n",
       "415.357,200.935 451.357,200.935 451.357,188.839 415.357,188.839 415.357,200.935 \n",
       "  \" fill=\"#ffff00\" fill-opacity=\"1\"/>\n",
       "<polyline clip-path=\"url(#clip1000)\" style=\"stroke:#ffff00; stroke-width:1; stroke-opacity:1; fill:none\" points=\"\n",
       "  415.357,188.839 451.357,188.839 \n",
       "  \"/>\n",
       "<g clip-path=\"url(#clip1000)\">\n",
       "<text style=\"fill:#000000; fill-opacity:1; font-family:Arial,Helvetica Neue,Helvetica,sans-serif; font-size:12; text-anchor:start;\" transform=\"rotate(0, 457.357, 199.387)\" x=\"457.357\" y=\"199.387\">Solar</text>\n",
       "</g>\n",
       "<polygon clip-path=\"url(#clip1000)\" points=\"\n",
       "415.357,216.055 451.357,216.055 451.357,203.959 415.357,203.959 415.357,216.055 \n",
       "  \" fill=\"#800080\" fill-opacity=\"1\"/>\n",
       "<polyline clip-path=\"url(#clip1000)\" style=\"stroke:#800080; stroke-width:1; stroke-opacity:1; fill:none\" points=\"\n",
       "  415.357,203.959 451.357,203.959 \n",
       "  \"/>\n",
       "<g clip-path=\"url(#clip1000)\">\n",
       "<text style=\"fill:#000000; fill-opacity:1; font-family:Arial,Helvetica Neue,Helvetica,sans-serif; font-size:12; text-anchor:start;\" transform=\"rotate(0, 457.357, 214.507)\" x=\"457.357\" y=\"214.507\">Storage gen</text>\n",
       "</g>\n",
       "<polygon clip-path=\"url(#clip1000)\" points=\"\n",
       "415.357,231.175 451.357,231.175 451.357,219.079 415.357,219.079 415.357,231.175 \n",
       "  \" fill=\"#800080\" fill-opacity=\"1\"/>\n",
       "<polyline clip-path=\"url(#clip1000)\" style=\"stroke:#800080; stroke-width:1; stroke-opacity:1; fill:none\" points=\"\n",
       "  415.357,219.079 451.357,219.079 \n",
       "  \"/>\n",
       "<g clip-path=\"url(#clip1000)\">\n",
       "<text style=\"fill:#000000; fill-opacity:1; font-family:Arial,Helvetica Neue,Helvetica,sans-serif; font-size:12; text-anchor:start;\" transform=\"rotate(0, 457.357, 229.627)\" x=\"457.357\" y=\"229.627\">Storage withdraw</text>\n",
       "</g>\n",
       "<polyline clip-path=\"url(#clip1000)\" style=\"stroke:#000000; stroke-width:3; stroke-opacity:1; fill:none\" points=\"\n",
       "  415.357,240.247 451.357,240.247 \n",
       "  \"/>\n",
       "<g clip-path=\"url(#clip1000)\">\n",
       "<text style=\"fill:#000000; fill-opacity:1; font-family:Arial,Helvetica Neue,Helvetica,sans-serif; font-size:12; text-anchor:start;\" transform=\"rotate(0, 457.357, 244.747)\" x=\"457.357\" y=\"244.747\">Demand</text>\n",
       "</g>\n",
       "<polygon clip-path=\"url(#clip1000)\" points=\"\n",
       "29.1292,375.869 580.315,375.869 580.315,346.994 29.1292,346.994 \n",
       "  \" fill=\"#ffffff\" fill-opacity=\"1\"/>\n",
       "<defs>\n",
       "  <clipPath id=\"clip1003\">\n",
       "    <rect x=\"29\" y=\"346\" width=\"552\" height=\"30\"/>\n",
       "  </clipPath>\n",
       "</defs>\n",
       "<polyline clip-path=\"url(#clip1003)\" style=\"stroke:#000000; stroke-width:0.5; stroke-opacity:0.1; fill:none\" points=\"\n",
       "  124.988,375.869 124.988,346.994 \n",
       "  \"/>\n",
       "<polyline clip-path=\"url(#clip1003)\" style=\"stroke:#000000; stroke-width:0.5; stroke-opacity:0.1; fill:none\" points=\"\n",
       "  244.811,375.869 244.811,346.994 \n",
       "  \"/>\n",
       "<polyline clip-path=\"url(#clip1003)\" style=\"stroke:#000000; stroke-width:0.5; stroke-opacity:0.1; fill:none\" points=\"\n",
       "  364.634,375.869 364.634,346.994 \n",
       "  \"/>\n",
       "<polyline clip-path=\"url(#clip1003)\" style=\"stroke:#000000; stroke-width:0.5; stroke-opacity:0.1; fill:none\" points=\"\n",
       "  484.457,375.869 484.457,346.994 \n",
       "  \"/>\n",
       "<polyline clip-path=\"url(#clip1003)\" style=\"stroke:#000000; stroke-width:0.5; stroke-opacity:0.1; fill:none\" points=\"\n",
       "  29.1292,373.473 580.315,373.473 \n",
       "  \"/>\n",
       "<polyline clip-path=\"url(#clip1003)\" style=\"stroke:#000000; stroke-width:0.5; stroke-opacity:0.1; fill:none\" points=\"\n",
       "  29.1292,368.682 580.315,368.682 \n",
       "  \"/>\n",
       "<polyline clip-path=\"url(#clip1003)\" style=\"stroke:#000000; stroke-width:0.5; stroke-opacity:0.1; fill:none\" points=\"\n",
       "  29.1292,363.892 580.315,363.892 \n",
       "  \"/>\n",
       "<polyline clip-path=\"url(#clip1003)\" style=\"stroke:#000000; stroke-width:0.5; stroke-opacity:0.1; fill:none\" points=\"\n",
       "  29.1292,359.101 580.315,359.101 \n",
       "  \"/>\n",
       "<polyline clip-path=\"url(#clip1003)\" style=\"stroke:#000000; stroke-width:0.5; stroke-opacity:0.1; fill:none\" points=\"\n",
       "  29.1292,354.31 580.315,354.31 \n",
       "  \"/>\n",
       "<polyline clip-path=\"url(#clip1003)\" style=\"stroke:#000000; stroke-width:0.5; stroke-opacity:0.1; fill:none\" points=\"\n",
       "  29.1292,349.519 580.315,349.519 \n",
       "  \"/>\n",
       "<polyline clip-path=\"url(#clip1000)\" style=\"stroke:#000000; stroke-width:1; stroke-opacity:1; fill:none\" points=\"\n",
       "  29.1292,375.869 580.315,375.869 \n",
       "  \"/>\n",
       "<polyline clip-path=\"url(#clip1000)\" style=\"stroke:#000000; stroke-width:1; stroke-opacity:1; fill:none\" points=\"\n",
       "  29.1292,375.869 29.1292,346.994 \n",
       "  \"/>\n",
       "<polyline clip-path=\"url(#clip1000)\" style=\"stroke:#000000; stroke-width:1; stroke-opacity:1; fill:none\" points=\"\n",
       "  124.988,375.869 124.988,375.436 \n",
       "  \"/>\n",
       "<polyline clip-path=\"url(#clip1000)\" style=\"stroke:#000000; stroke-width:1; stroke-opacity:1; fill:none\" points=\"\n",
       "  244.811,375.869 244.811,375.436 \n",
       "  \"/>\n",
       "<polyline clip-path=\"url(#clip1000)\" style=\"stroke:#000000; stroke-width:1; stroke-opacity:1; fill:none\" points=\"\n",
       "  364.634,375.869 364.634,375.436 \n",
       "  \"/>\n",
       "<polyline clip-path=\"url(#clip1000)\" style=\"stroke:#000000; stroke-width:1; stroke-opacity:1; fill:none\" points=\"\n",
       "  484.457,375.869 484.457,375.436 \n",
       "  \"/>\n",
       "<polyline clip-path=\"url(#clip1000)\" style=\"stroke:#000000; stroke-width:1; stroke-opacity:1; fill:none\" points=\"\n",
       "  29.1292,373.473 37.397,373.473 \n",
       "  \"/>\n",
       "<polyline clip-path=\"url(#clip1000)\" style=\"stroke:#000000; stroke-width:1; stroke-opacity:1; fill:none\" points=\"\n",
       "  29.1292,368.682 37.397,368.682 \n",
       "  \"/>\n",
       "<polyline clip-path=\"url(#clip1000)\" style=\"stroke:#000000; stroke-width:1; stroke-opacity:1; fill:none\" points=\"\n",
       "  29.1292,363.892 37.397,363.892 \n",
       "  \"/>\n",
       "<polyline clip-path=\"url(#clip1000)\" style=\"stroke:#000000; stroke-width:1; stroke-opacity:1; fill:none\" points=\"\n",
       "  29.1292,359.101 37.397,359.101 \n",
       "  \"/>\n",
       "<polyline clip-path=\"url(#clip1000)\" style=\"stroke:#000000; stroke-width:1; stroke-opacity:1; fill:none\" points=\"\n",
       "  29.1292,354.31 37.397,354.31 \n",
       "  \"/>\n",
       "<polyline clip-path=\"url(#clip1000)\" style=\"stroke:#000000; stroke-width:1; stroke-opacity:1; fill:none\" points=\"\n",
       "  29.1292,349.519 37.397,349.519 \n",
       "  \"/>\n",
       "<g clip-path=\"url(#clip1000)\">\n",
       "<text style=\"fill:#000000; fill-opacity:1; font-family:Arial,Helvetica Neue,Helvetica,sans-serif; font-size:12; text-anchor:middle;\" transform=\"rotate(0, 124.988, 389.669)\" x=\"124.988\" y=\"389.669\">5</text>\n",
       "</g>\n",
       "<g clip-path=\"url(#clip1000)\">\n",
       "<text style=\"fill:#000000; fill-opacity:1; font-family:Arial,Helvetica Neue,Helvetica,sans-serif; font-size:12; text-anchor:middle;\" transform=\"rotate(0, 244.811, 389.669)\" x=\"244.811\" y=\"389.669\">10</text>\n",
       "</g>\n",
       "<g clip-path=\"url(#clip1000)\">\n",
       "<text style=\"fill:#000000; fill-opacity:1; font-family:Arial,Helvetica Neue,Helvetica,sans-serif; font-size:12; text-anchor:middle;\" transform=\"rotate(0, 364.634, 389.669)\" x=\"364.634\" y=\"389.669\">15</text>\n",
       "</g>\n",
       "<g clip-path=\"url(#clip1000)\">\n",
       "<text style=\"fill:#000000; fill-opacity:1; font-family:Arial,Helvetica Neue,Helvetica,sans-serif; font-size:12; text-anchor:middle;\" transform=\"rotate(0, 484.457, 389.669)\" x=\"484.457\" y=\"389.669\">20</text>\n",
       "</g>\n",
       "<g clip-path=\"url(#clip1000)\">\n",
       "<text style=\"fill:#000000; fill-opacity:1; font-family:Arial,Helvetica Neue,Helvetica,sans-serif; font-size:12; text-anchor:end;\" transform=\"rotate(0, 23.1292, 377.973)\" x=\"23.1292\" y=\"377.973\">10</text>\n",
       "</g>\n",
       "<g clip-path=\"url(#clip1000)\">\n",
       "<text style=\"fill:#000000; fill-opacity:1; font-family:Arial,Helvetica Neue,Helvetica,sans-serif; font-size:12; text-anchor:end;\" transform=\"rotate(0, 23.1292, 373.182)\" x=\"23.1292\" y=\"373.182\">15</text>\n",
       "</g>\n",
       "<g clip-path=\"url(#clip1000)\">\n",
       "<text style=\"fill:#000000; fill-opacity:1; font-family:Arial,Helvetica Neue,Helvetica,sans-serif; font-size:12; text-anchor:end;\" transform=\"rotate(0, 23.1292, 368.392)\" x=\"23.1292\" y=\"368.392\">20</text>\n",
       "</g>\n",
       "<g clip-path=\"url(#clip1000)\">\n",
       "<text style=\"fill:#000000; fill-opacity:1; font-family:Arial,Helvetica Neue,Helvetica,sans-serif; font-size:12; text-anchor:end;\" transform=\"rotate(0, 23.1292, 363.601)\" x=\"23.1292\" y=\"363.601\">25</text>\n",
       "</g>\n",
       "<g clip-path=\"url(#clip1000)\">\n",
       "<text style=\"fill:#000000; fill-opacity:1; font-family:Arial,Helvetica Neue,Helvetica,sans-serif; font-size:12; text-anchor:end;\" transform=\"rotate(0, 23.1292, 358.81)\" x=\"23.1292\" y=\"358.81\">30</text>\n",
       "</g>\n",
       "<g clip-path=\"url(#clip1000)\">\n",
       "<text style=\"fill:#000000; fill-opacity:1; font-family:Arial,Helvetica Neue,Helvetica,sans-serif; font-size:12; text-anchor:end;\" transform=\"rotate(0, 23.1292, 354.019)\" x=\"23.1292\" y=\"354.019\">35</text>\n",
       "</g>\n",
       "<g clip-path=\"url(#clip1000)\">\n",
       "<text style=\"fill:#000000; fill-opacity:1; font-family:Arial,Helvetica Neue,Helvetica,sans-serif; font-size:21; text-anchor:middle;\" transform=\"rotate(0, 304.722, 333.498)\" x=\"304.722\" y=\"333.498\">Storage level</text>\n",
       "</g>\n",
       "<polyline clip-path=\"url(#clip1003)\" style=\"stroke:#000000; stroke-width:2; stroke-opacity:1; fill:none\" points=\"\n",
       "  29.1292,375.869 53.0938,372.091 77.0584,355.641 101.023,349.317 124.988,346.994 148.952,346.994 172.917,346.994 196.881,346.994 220.846,346.994 244.811,346.994 \n",
       "  268.775,346.994 292.74,346.994 316.704,346.994 340.669,346.994 364.634,346.994 388.598,346.994 412.563,346.994 436.527,348.542 460.492,356.13 484.457,364.831 \n",
       "  508.421,372.113 532.386,375.409 556.35,375.869 580.315,375.869 \n",
       "  \"/>\n",
       "</svg>\n"
      ]
     },
     "execution_count": 142,
     "metadata": {},
     "output_type": "execute_result"
    }
   ],
   "source": [
    "l = @layout([a{0.9h};b])\n",
    "dispatch_plot = areaplot(generation, label=TECHNOLOGIES, title=\"Dispatch\",\n",
    "    color=reshape([:red, :brown, :grey, :orange, :blue, :yellow, :purple],1, length(TECHNOLOGIES)),\n",
    "    legend=:bottomleft)\n",
    "plot!(dispatch_plot, storage_withdraw, fill=0, label=\"Storage withdraw\", color=:purple)\n",
    "plot!(dispatch_plot, demand, c=:black, label=\"Demand\", width=3, legend=:bottomright)\n",
    "\n",
    "level_plot = plot(storage_level, width=2, color=:black, legend=false, title=\"Storage level\")\n",
    "\n",
    "    \n",
    "plot(dispatch_plot,level_plot, layout=l)"
   ]
  },
  {
   "cell_type": "code",
   "execution_count": 99,
   "metadata": {},
   "outputs": [
    {
     "ename": "LoadError",
     "evalue": "\u001b[91mUndefVarError: savefig not defined\u001b[39m",
     "output_type": "error",
     "traceback": [
      "\u001b[91mUndefVarError: savefig not defined\u001b[39m",
      ""
     ]
    }
   ],
   "source": [
    "savefig(\"dispatch.pdf\")\n",
    "savefig(\"dispatch.png\")\n",
    "savefig(\"dispatch.svg\")"
   ]
  },
  {
   "cell_type": "code",
   "execution_count": null,
   "metadata": {},
   "outputs": [],
   "source": []
  }
 ],
 "metadata": {
  "kernelspec": {
   "display_name": "Julia 0.6.2",
   "language": "julia",
   "name": "julia-0.6"
  },
  "language_info": {
   "file_extension": ".jl",
   "mimetype": "application/julia",
   "name": "julia",
   "version": "0.6.2"
  }
 },
 "nbformat": 4,
 "nbformat_minor": 2
}
