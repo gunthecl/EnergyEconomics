{
 "cells": [
  {
   "cell_type": "markdown",
   "metadata": {},
   "source": [
    "# Homework 1"
   ]
  },
  {
   "cell_type": "code",
   "execution_count": null,
   "metadata": {},
   "outputs": [],
   "source": [
    "using JuMP\n",
    "using Clp\n",
    "using Plots\n",
    "using RecipesBase\n",
    "using NamedArrays"
   ]
  },
  {
   "cell_type": "code",
   "execution_count": null,
   "metadata": {},
   "outputs": [],
   "source": [
    "HOUR = collect(1:24)"
   ]
  },
  {
   "cell_type": "code",
   "execution_count": null,
   "metadata": {},
   "outputs": [],
   "source": [
    "DISP = [\"Nuclear\", \"Lignite\", \"Hard coal\", \"Natural gas\"]\n",
    "RES = [\"Wind\", \"Solar\"]\n",
    "TECHNOLOGIES = vcat(DISP, RES, \"Storage gen\")"
   ]
  },
  {
   "cell_type": "code",
   "execution_count": null,
   "metadata": {},
   "outputs": [],
   "source": [
    "demand = [60, 59, 56, 58, 64, 69, 79, 85, 81, 79, 78, 78, 80, 81, 82, 83, 84, 85, 89, 88, 86, 82, 80, 71]"
   ]
  },
  {
   "cell_type": "markdown",
   "metadata": {},
   "source": [
    "## Calculate the marginal cost"
   ]
  },
  {
   "cell_type": "markdown",
   "metadata": {},
   "source": [
    " Technology | Fuel cost | $\\eta$ | O&M | $\\lambda$\n",
    "-----|----------------|--------------\n",
    " Nuclear   |        3.00       |       0.33 | 10 | 0\n",
    " Lignite   |        6.21      |       0.42 | 6 | 0.399\n",
    " Hard coal   |       10.60       |      0.42 | 6 | 0.337\n",
    " Natural gas  |       31.08       |      0.59 | 2 | 0.201\n"
   ]
  },
  {
   "cell_type": "markdown",
   "metadata": {},
   "source": [
    "Use this formula to calculate the marginal cost. The result should be a NamedArray with 4 elements. Assume the $ CO_{2}$ price to be 7 $\\frac{EUR}{MWh}$.\n",
    "\n",
    "$$ mc_p = \\frac{\\text{fuel_costs}_p}{\\eta_p} + \\text{co2_costs} \\cdot \\lambda_p + \\text{om}_p$$"
   ]
  },
  {
   "cell_type": "code",
   "execution_count": null,
   "metadata": {
    "scrolled": true
   },
   "outputs": [],
   "source": [
    "co_price = 7"
   ]
  },
  {
   "cell_type": "markdown",
   "metadata": {},
   "source": [
    "Hint: Multiplying two vectors can be done by using `.*`."
   ]
  },
  {
   "cell_type": "code",
   "execution_count": null,
   "metadata": {
    "scrolled": false
   },
   "outputs": [],
   "source": []
  },
  {
   "cell_type": "markdown",
   "metadata": {},
   "source": [
    "## Run the model"
   ]
  },
  {
   "cell_type": "markdown",
   "metadata": {},
   "source": [
    "From here on, use the model that was discussed in the class."
   ]
  },
  {
   "cell_type": "code",
   "execution_count": null,
   "metadata": {
    "scrolled": true
   },
   "outputs": [],
   "source": [
    "g_max = NamedArray([20, 30, 25, 15], (DISP,), (\"Technologies\",))"
   ]
  },
  {
   "cell_type": "code",
   "execution_count": null,
   "metadata": {},
   "outputs": [],
   "source": [
    "solar_availability = [\n",
    "0\n",
    "0\n",
    "0\n",
    "0.004\n",
    "0.027\n",
    "0.071\n",
    "0.129\n",
    "0.2\n",
    "0.281\n",
    "0.377\n",
    "0.429\n",
    "0.433\n",
    "0.364\n",
    "0.287\n",
    "0.197\n",
    "0.113\n",
    "0.04\n",
    "0.001\n",
    "0\n",
    "0\n",
    "0\n",
    "0\n",
    "0\n",
    "0\n",
    "]\n",
    "\n",
    "wind_availability = [\n",
    "0.323\n",
    "0.337\n",
    "0.354\n",
    "0.385\n",
    "0.402\n",
    "0.395\n",
    "0.379\n",
    "0.378\n",
    "0.372\n",
    "0.369\n",
    "0.379\n",
    "0.386\n",
    "0.375\n",
    "0.344\n",
    "0.299\n",
    "0.259\n",
    "0.233\n",
    "0.209\n",
    "0.152\n",
    "0.098\n",
    "0.085\n",
    "0.089\n",
    "0.113\n",
    "0.155\n",
    "]"
   ]
  },
  {
   "cell_type": "code",
   "execution_count": null,
   "metadata": {},
   "outputs": [],
   "source": [
    "installed_solar = 25\n",
    "installed_wind = 40"
   ]
  },
  {
   "cell_type": "code",
   "execution_count": null,
   "metadata": {
    "scrolled": true
   },
   "outputs": [],
   "source": [
    "res_infeed = hcat(wind_availability*installed_wind, solar_availability*installed_solar)'\n",
    "g_res = NamedArray(res_infeed, (RES,HOUR), (\"Renewable Energy Source\", \"Hour\"))"
   ]
  },
  {
   "cell_type": "code",
   "execution_count": null,
   "metadata": {},
   "outputs": [],
   "source": [
    "storage_max = 15\n",
    "storage_gen = 5"
   ]
  },
  {
   "cell_type": "code",
   "execution_count": null,
   "metadata": {},
   "outputs": [],
   "source": [
    "dispatch_problem = Model(solver=ClpSolver())"
   ]
  },
  {
   "cell_type": "code",
   "execution_count": null,
   "metadata": {},
   "outputs": [],
   "source": [
    "@variables dispatch_problem begin       \n",
    "        G[DISP, HOUR] >= 0 # generation from power plants\n",
    "        G_stor[HOUR] >= 0 #generation from storage\n",
    "        L[HOUR] >= 0 #current storage level\n",
    "        D_stor[HOUR] >= 0 #consumption from storage \n",
    "end"
   ]
  },
  {
   "cell_type": "code",
   "execution_count": null,
   "metadata": {},
   "outputs": [],
   "source": [
    "JuMP.fix(L[1], 0)\n",
    "JuMP.fix(L[24], 0)\n",
    "JuMP.fix(G_stor[1], 0)"
   ]
  },
  {
   "cell_type": "markdown",
   "metadata": {},
   "source": [
    "Objective function\n",
    "$$ \\sum_{DISP} \\sum_{HOUR} mc_{disp} * G_{disp, hour} $$"
   ]
  },
  {
   "cell_type": "code",
   "execution_count": null,
   "metadata": {},
   "outputs": [],
   "source": [
    "@objective(dispatch_problem, Min, \n",
    "    sum(mc[disp] * G[disp, hour] for disp in DISP, hour in HOUR));"
   ]
  },
  {
   "cell_type": "markdown",
   "metadata": {},
   "source": [
    "s.t.\n",
    "\n",
    "$$ \\sum_{DISP} G^{disp}_{hour} + G^{stor}_{hour} + \\sum_{RES} g^{res}_{hour} = D^{stor} + demand_{hour} \\quad \\forall hour \\in HOUR $$"
   ]
  },
  {
   "cell_type": "code",
   "execution_count": null,
   "metadata": {},
   "outputs": [],
   "source": [
    "@constraint(dispatch_problem, Market_Clearing[hour=HOUR],\n",
    "    sum(G[disp, hour] for disp in DISP)\n",
    "    + sum(g_res[res, hour] for res in RES)\n",
    "    + G_stor[hour]\n",
    "    ==\n",
    "    demand[hour] \n",
    "    + D_stor[hour]\n",
    ");"
   ]
  },
  {
   "cell_type": "markdown",
   "metadata": {},
   "source": [
    "$$ G^{disp}_{hour} \\le g^{max}_{disp} \\quad \\forall disp \\in DISP, hour \\in HOUR$$"
   ]
  },
  {
   "cell_type": "code",
   "execution_count": null,
   "metadata": {},
   "outputs": [],
   "source": [
    "@constraint(dispatch_problem, Max_Generation[disp=DISP, hour=HOUR],\n",
    "    G[disp, hour] <= g_max[disp]\n",
    ");"
   ]
  },
  {
   "cell_type": "markdown",
   "metadata": {},
   "source": [
    "$$ L_{hour} = L_{hour - 1} + 0.88 * D^{stor}_{hour} - G^{stor}_{hour} \\quad \\forall hour \\in HOUR_{2,...,24} $$"
   ]
  },
  {
   "cell_type": "code",
   "execution_count": null,
   "metadata": {},
   "outputs": [],
   "source": [
    "@constraint(dispatch_problem, Storage_Level[hour=HOUR; hour != 1],\n",
    "    L[hour] == L[hour-1] + 0.88*D_stor[hour] - G_stor[hour]\n",
    ");"
   ]
  },
  {
   "cell_type": "markdown",
   "metadata": {},
   "source": [
    "$$ L_{hour} \\le stor^{max} \\quad \\forall hour \\in HOUR$$ "
   ]
  },
  {
   "cell_type": "code",
   "execution_count": null,
   "metadata": {},
   "outputs": [],
   "source": [
    "@constraint(dispatch_problem, Max_Storage_Level[hour=HOUR],\n",
    "    L[hour] <= storage_max\n",
    ");"
   ]
  },
  {
   "cell_type": "markdown",
   "metadata": {},
   "source": [
    "$$ G^{stor}_{hour} \\le stor^{gen} \\quad \\forall hour \\in HOUR$$ "
   ]
  },
  {
   "cell_type": "code",
   "execution_count": null,
   "metadata": {},
   "outputs": [],
   "source": [
    "@constraint(dispatch_problem, Max_Storage_Generation[hour=HOUR],\n",
    "    G_stor[hour] <= storage_gen\n",
    ");"
   ]
  },
  {
   "cell_type": "markdown",
   "metadata": {},
   "source": [
    "$$ D^{stor}_{hour} \\le stor^{gen} \\quad \\forall hour \\in HOUR$$ "
   ]
  },
  {
   "cell_type": "code",
   "execution_count": null,
   "metadata": {},
   "outputs": [],
   "source": [
    "@constraint(dispatch_problem, Max_Storage_Withdraw[hour=HOUR],\n",
    "    D_stor[hour] <= storage_gen\n",
    ");"
   ]
  },
  {
   "cell_type": "code",
   "execution_count": null,
   "metadata": {},
   "outputs": [],
   "source": [
    "solve(dispatch_problem)"
   ]
  },
  {
   "cell_type": "markdown",
   "metadata": {},
   "source": [
    "## Results"
   ]
  },
  {
   "cell_type": "markdown",
   "metadata": {},
   "source": [
    "`vcat` concatenates the matrix G and the renewable infeed vertically. The  `'` transposes the matrix"
   ]
  },
  {
   "cell_type": "code",
   "execution_count": null,
   "metadata": {
    "scrolled": true
   },
   "outputs": [],
   "source": [
    "result = vcat(getvalue(G).innerArray, g_res, getvalue(G_stor).innerArray')'"
   ]
  },
  {
   "cell_type": "code",
   "execution_count": null,
   "metadata": {
    "scrolled": true
   },
   "outputs": [],
   "source": [
    "generation = NamedArray(result, (HOUR, TECHNOLOGIES), (\"Hour\", \"Technology\"))"
   ]
  },
  {
   "cell_type": "code",
   "execution_count": null,
   "metadata": {
    "scrolled": true
   },
   "outputs": [],
   "source": [
    "storage_withdraw = -getvalue(D_stor).innerArray"
   ]
  },
  {
   "cell_type": "code",
   "execution_count": null,
   "metadata": {},
   "outputs": [],
   "source": [
    "storage_level = getvalue(L).innerArray"
   ]
  },
  {
   "cell_type": "code",
   "execution_count": null,
   "metadata": {},
   "outputs": [],
   "source": [
    "@userplot Areaplot\n",
    "@recipe function f(a::Areaplot)\n",
    "    data = cumsum(a.args[1], 2)\n",
    "\n",
    "    seriestype := :line\n",
    "    fillrange := 0\n",
    "\n",
    "    @series begin\n",
    "        data[:,1]\n",
    "    end\n",
    "\n",
    "    for i in 2:size(data, 2)\n",
    "    @series begin\n",
    "            fillrange := data[:,i-1]\n",
    "            data[:,i]\n",
    "        end\n",
    "    end\n",
    "end"
   ]
  },
  {
   "cell_type": "markdown",
   "metadata": {},
   "source": [
    "You can also save plots in common formats like pdf, png or svg using the `savefig()` function."
   ]
  },
  {
   "cell_type": "code",
   "execution_count": null,
   "metadata": {
    "scrolled": true
   },
   "outputs": [],
   "source": [
    "l = @layout([a{0.9h};b])\n",
    "dispatch_plot = areaplot(generation, label=TECHNOLOGIES, title=\"Dispatch\",\n",
    "    color=reshape([:red, :brown, :grey, :orange, :blue, :yellow, :purple],1, length(TECHNOLOGIES)),\n",
    "    legend=:bottomleft)\n",
    "plot!(dispatch_plot, storage_withdraw, fill=0, label=\"Storage withdraw\", color=:purple)\n",
    "plot!(dispatch_plot, demand, c=:black, label=\"Demand\", width=3, legend=:bottomright)\n",
    "\n",
    "level_plot = plot(storage_level, width=2, color=:black, legend=false, title=\"Storage level\")\n",
    "\n",
    "    \n",
    "plot(dispatch_plot,level_plot, layout=l)"
   ]
  },
  {
   "cell_type": "code",
   "execution_count": null,
   "metadata": {},
   "outputs": [],
   "source": [
    "savefig(\"dispatch.pdf\")\n",
    "savefig(\"dispatch.png\")\n",
    "savefig(\"dispatch.svg\")"
   ]
  },
  {
   "cell_type": "code",
   "execution_count": null,
   "metadata": {},
   "outputs": [],
   "source": []
  }
 ],
 "metadata": {
  "kernelspec": {
   "display_name": "Julia 0.6.2",
   "language": "julia",
   "name": "julia-0.6"
  },
  "language_info": {
   "file_extension": ".jl",
   "mimetype": "application/julia",
   "name": "julia",
   "version": "0.6.2"
  }
 },
 "nbformat": 4,
 "nbformat_minor": 2
}
