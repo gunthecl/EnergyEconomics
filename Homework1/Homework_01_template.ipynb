{
 "cells": [
  {
   "cell_type": "markdown",
   "metadata": {},
   "source": [
    "# Homework 1"
   ]
  },
  {
   "cell_type": "code",
   "execution_count": 1,
   "metadata": {},
   "outputs": [],
   "source": [
    "using JuMP\n",
    "using Clp\n",
    "using Plots\n",
    "using RecipesBase\n",
    "using NamedArrays"
   ]
  },
  {
   "cell_type": "code",
   "execution_count": 2,
   "metadata": {},
   "outputs": [
    {
     "data": {
      "text/plain": [
       "24-element Array{Int64,1}:\n",
       "  1\n",
       "  2\n",
       "  3\n",
       "  4\n",
       "  5\n",
       "  6\n",
       "  7\n",
       "  8\n",
       "  9\n",
       " 10\n",
       " 11\n",
       " 12\n",
       " 13\n",
       " 14\n",
       " 15\n",
       " 16\n",
       " 17\n",
       " 18\n",
       " 19\n",
       " 20\n",
       " 21\n",
       " 22\n",
       " 23\n",
       " 24"
      ]
     },
     "execution_count": 2,
     "metadata": {},
     "output_type": "execute_result"
    }
   ],
   "source": [
    "HOUR = collect(1:24)"
   ]
  },
  {
   "cell_type": "code",
   "execution_count": 3,
   "metadata": {},
   "outputs": [
    {
     "data": {
      "text/plain": [
       "7-element Array{String,1}:\n",
       " \"Nuclear\"    \n",
       " \"Lignite\"    \n",
       " \"Hard coal\"  \n",
       " \"Natural gas\"\n",
       " \"Wind\"       \n",
       " \"Solar\"      \n",
       " \"Storage gen\""
      ]
     },
     "execution_count": 3,
     "metadata": {},
     "output_type": "execute_result"
    }
   ],
   "source": [
    "DISP = [\"Nuclear\", \"Lignite\", \"Hard coal\", \"Natural gas\"]\n",
    "RES = [\"Wind\", \"Solar\"]\n",
    "TECHNOLOGIES = vcat(DISP, RES, \"Storage gen\")"
   ]
  },
  {
   "cell_type": "code",
   "execution_count": 4,
   "metadata": {},
   "outputs": [
    {
     "data": {
      "text/plain": [
       "24-element Array{Int64,1}:\n",
       " 60\n",
       " 59\n",
       " 56\n",
       " 58\n",
       " 64\n",
       " 69\n",
       " 79\n",
       " 85\n",
       " 81\n",
       " 79\n",
       " 78\n",
       " 78\n",
       " 80\n",
       " 81\n",
       " 82\n",
       " 83\n",
       " 84\n",
       " 85\n",
       " 89\n",
       " 88\n",
       " 86\n",
       " 82\n",
       " 80\n",
       " 71"
      ]
     },
     "execution_count": 4,
     "metadata": {},
     "output_type": "execute_result"
    }
   ],
   "source": [
    "demand = [60, 59, 56, 58, 64, 69, 79, 85, 81, 79, 78, 78, 80, 81, 82, 83, 84, 85, 89, 88, 86, 82, 80, 71]"
   ]
  },
  {
   "cell_type": "markdown",
   "metadata": {},
   "source": [
    "## Calculate the marginal cost"
   ]
  },
  {
   "cell_type": "markdown",
   "metadata": {},
   "source": [
    " Technology | Fuel cost | $\\eta$ | O&M | $\\lambda$\n",
    "-----|----------------|--------------\n",
    " Nuclear   |        3.00       |       0.33 | 10 | 0\n",
    " Lignite   |        6.21      |       0.42 | 6 | 0.399\n",
    " Hard coal   |       10.60       |      0.42 | 6 | 0.337\n",
    " Natural gas  |       31.08       |      0.59 | 2 | 0.201\n"
   ]
  },
  {
   "cell_type": "markdown",
   "metadata": {},
   "source": [
    "Use this formula to calculate the marginal cost. The result should be a NamedArray with 4 elements. Assume the $ CO_{2}$ price to be 7 $\\frac{EUR}{MWh}$.\n",
    "\n",
    "$$ mc_p = \\frac{\\text{fuel_costs}_p}{\\eta_p} + \\text{co2_costs} \\cdot \\lambda_p + \\text{om}_p$$"
   ]
  },
  {
   "cell_type": "code",
   "execution_count": 5,
   "metadata": {
    "scrolled": true
   },
   "outputs": [
    {
     "data": {
      "text/html": [
       "7"
      ],
      "text/plain": [
       "7"
      ]
     },
     "execution_count": 5,
     "metadata": {},
     "output_type": "execute_result"
    }
   ],
   "source": [
    "co_price = 7"
   ]
  },
  {
   "cell_type": "markdown",
   "metadata": {},
   "source": [
    "Hint: Multiplying two vectors can be done by using `.*`."
   ]
  },
  {
   "cell_type": "code",
   "execution_count": 6,
   "metadata": {
    "scrolled": false
   },
   "outputs": [
    {
     "data": {
      "text/plain": [
       "4-element Named Array{Float64,1}\n",
       "Technologies  │ \n",
       "──────────────┼──────\n",
       "Nuclear       │   0.0\n",
       "Lignite       │ 0.399\n",
       "Hard coal     │ 0.337\n",
       "Natural gas   │ 0.201"
      ]
     },
     "execution_count": 6,
     "metadata": {},
     "output_type": "execute_result"
    }
   ],
   "source": [
    "c_fuel = NamedArray([3, 6.21, 10.6, 31.08], (DISP,), (\"Technologies\",))\n",
    "eta    = NamedArray([0.33, 0.42, 0.42, 0.59], (DISP,), (\"Technologies\",))\n",
    "om     = NamedArray([10, 6, 6, 2], (DISP,), (\"Technologies\",))\n",
    "lambda = NamedArray([0, 0.399, 0.337, 0.201], (DISP,), (\"Technologies\",))"
   ]
  },
  {
   "cell_type": "code",
   "execution_count": 7,
   "metadata": {},
   "outputs": [
    {
     "data": {
      "text/plain": [
       "4-element Named Array{Float64,1}\n",
       "Technologies  │ \n",
       "──────────────┼────────\n",
       "Nuclear       │ 19.0909\n",
       "Lignite       │ 23.5787\n",
       "Hard coal     │ 33.5971\n",
       "Natural gas   │  56.085"
      ]
     },
     "execution_count": 7,
     "metadata": {},
     "output_type": "execute_result"
    }
   ],
   "source": [
    "mc     = c_fuel./eta + co_price.*lambda + om "
   ]
  },
  {
   "cell_type": "markdown",
   "metadata": {},
   "source": [
    "## Run the model"
   ]
  },
  {
   "cell_type": "markdown",
   "metadata": {},
   "source": [
    "From here on, use the model that was discussed in the class."
   ]
  },
  {
   "cell_type": "code",
   "execution_count": 8,
   "metadata": {
    "scrolled": true
   },
   "outputs": [
    {
     "data": {
      "text/plain": [
       "4-element Named Array{Int64,1}\n",
       "Technologies  │ \n",
       "──────────────┼───\n",
       "Nuclear       │ 20\n",
       "Lignite       │ 30\n",
       "Hard coal     │ 25\n",
       "Natural gas   │ 15"
      ]
     },
     "execution_count": 8,
     "metadata": {},
     "output_type": "execute_result"
    }
   ],
   "source": [
    "g_max = NamedArray([20, 30, 25, 15], (DISP,), (\"Technologies\",))"
   ]
  },
  {
   "cell_type": "code",
   "execution_count": 9,
   "metadata": {},
   "outputs": [
    {
     "data": {
      "text/plain": [
       "24-element Array{Float64,1}:\n",
       " 0.323\n",
       " 0.337\n",
       " 0.354\n",
       " 0.385\n",
       " 0.402\n",
       " 0.395\n",
       " 0.379\n",
       " 0.378\n",
       " 0.372\n",
       " 0.369\n",
       " 0.379\n",
       " 0.386\n",
       " 0.375\n",
       " 0.344\n",
       " 0.299\n",
       " 0.259\n",
       " 0.233\n",
       " 0.209\n",
       " 0.152\n",
       " 0.098\n",
       " 0.085\n",
       " 0.089\n",
       " 0.113\n",
       " 0.155"
      ]
     },
     "execution_count": 9,
     "metadata": {},
     "output_type": "execute_result"
    }
   ],
   "source": [
    "solar_availability = [\n",
    "0\n",
    "0\n",
    "0\n",
    "0.004\n",
    "0.027\n",
    "0.071\n",
    "0.129\n",
    "0.2\n",
    "0.281\n",
    "0.377\n",
    "0.429\n",
    "0.433\n",
    "0.364\n",
    "0.287\n",
    "0.197\n",
    "0.113\n",
    "0.04\n",
    "0.001\n",
    "0\n",
    "0\n",
    "0\n",
    "0\n",
    "0\n",
    "0\n",
    "]\n",
    "\n",
    "wind_availability = [\n",
    "0.323\n",
    "0.337\n",
    "0.354\n",
    "0.385\n",
    "0.402\n",
    "0.395\n",
    "0.379\n",
    "0.378\n",
    "0.372\n",
    "0.369\n",
    "0.379\n",
    "0.386\n",
    "0.375\n",
    "0.344\n",
    "0.299\n",
    "0.259\n",
    "0.233\n",
    "0.209\n",
    "0.152\n",
    "0.098\n",
    "0.085\n",
    "0.089\n",
    "0.113\n",
    "0.155\n",
    "]"
   ]
  },
  {
   "cell_type": "code",
   "execution_count": 10,
   "metadata": {},
   "outputs": [
    {
     "data": {
      "text/html": [
       "40"
      ],
      "text/plain": [
       "40"
      ]
     },
     "execution_count": 10,
     "metadata": {},
     "output_type": "execute_result"
    }
   ],
   "source": [
    "installed_solar = 25\n",
    "installed_wind = 40"
   ]
  },
  {
   "cell_type": "code",
   "execution_count": 11,
   "metadata": {
    "scrolled": true
   },
   "outputs": [
    {
     "data": {
      "text/plain": [
       "2×24 Named Array{Float64,2}\n",
       "Renewable Energy Source ╲ Hour │      1       2  …      23      24\n",
       "───────────────────────────────┼──────────────────────────────────\n",
       "Wind                           │  12.92   13.48  …    4.52     6.2\n",
       "Solar                          │    0.0     0.0  …     0.0     0.0"
      ]
     },
     "execution_count": 11,
     "metadata": {},
     "output_type": "execute_result"
    }
   ],
   "source": [
    "res_infeed = hcat(wind_availability*installed_wind, solar_availability*installed_solar)'\n",
    "g_res = NamedArray(res_infeed, (RES,HOUR), (\"Renewable Energy Source\", \"Hour\"))"
   ]
  },
  {
   "cell_type": "code",
   "execution_count": 12,
   "metadata": {},
   "outputs": [
    {
     "data": {
      "text/html": [
       "5"
      ],
      "text/plain": [
       "5"
      ]
     },
     "execution_count": 12,
     "metadata": {},
     "output_type": "execute_result"
    }
   ],
   "source": [
    "storage_max = 15\n",
    "storage_gen = 5"
   ]
  },
  {
   "cell_type": "code",
   "execution_count": 13,
   "metadata": {},
   "outputs": [
    {
     "data": {
      "text/latex": [
       "$$ \\begin{alignat*}{1}\\min\\quad & 0\\\\\n",
       "\\text{Subject to} \\quad\\end{alignat*}\n",
       " $$"
      ],
      "text/plain": [
       "Feasibility problem with:\n",
       " * 0 linear constraints\n",
       " * 0 variables\n",
       "Solver is ClpMathProg"
      ]
     },
     "execution_count": 13,
     "metadata": {},
     "output_type": "execute_result"
    }
   ],
   "source": [
    "dispatch_problem = Model(solver=ClpSolver())"
   ]
  },
  {
   "cell_type": "code",
   "execution_count": 14,
   "metadata": {},
   "outputs": [],
   "source": [
    "@variables dispatch_problem begin       \n",
    "        G[DISP, HOUR] >= 0 # generation from power plants\n",
    "        G_stor[HOUR] >= 0 #generation from storage\n",
    "        L[HOUR] >= 0 #current storage level\n",
    "        D_stor[HOUR] >= 0 #consumption from storage \n",
    "end"
   ]
  },
  {
   "cell_type": "code",
   "execution_count": 15,
   "metadata": {},
   "outputs": [],
   "source": [
    "JuMP.fix(L[1], 0)\n",
    "JuMP.fix(L[24], 0)\n",
    "JuMP.fix(G_stor[1], 0)"
   ]
  },
  {
   "cell_type": "code",
   "execution_count": 16,
   "metadata": {},
   "outputs": [],
   "source": [
    "#= Task 2: Set the storage level to 50% in the first time step\n",
    "JuMP.fix(L[1], storage_max*0.5)\n",
    "JuMP.fix(L[24], 0) =#\n",
    "\n",
    "#= Task 2: Set the storage level to 50% in the first and last time step\n",
    "JuMP.fix(L[1], storage_max*0.5)\n",
    "JuMP.fix(L[24], storage_max*0.5) \n",
    "=#\n",
    "\n",
    "#= Task 2: Force the start- and endlevel to be equal, without specifying a value\n",
    "\n",
    "JuMP.fix(G_stor[1], 0) \n",
    "\n",
    "start_end = [1,24]\n",
    "\n",
    "@constraint(dispatch_problem, storage_restr[hour=start_end],\n",
    "    L[1] == L[24]\n",
    ");\n",
    " =#"
   ]
  },
  {
   "cell_type": "markdown",
   "metadata": {},
   "source": [
    "Objective function\n",
    "$$ \\sum_{DISP} \\sum_{HOUR} mc_{disp} * G_{disp, hour} $$"
   ]
  },
  {
   "cell_type": "code",
   "execution_count": 17,
   "metadata": {},
   "outputs": [],
   "source": [
    "@objective(dispatch_problem, Min, \n",
    "    sum(mc[disp] * G[disp, hour] for disp in DISP, hour in HOUR));"
   ]
  },
  {
   "cell_type": "markdown",
   "metadata": {},
   "source": [
    "s.t.\n",
    "\n",
    "$$ \\sum_{DISP} G^{disp}_{hour} + G^{stor}_{hour} + \\sum_{RES} g^{res}_{hour} = D^{stor} + demand_{hour} \\quad \\forall hour \\in HOUR $$"
   ]
  },
  {
   "cell_type": "code",
   "execution_count": 18,
   "metadata": {},
   "outputs": [],
   "source": [
    "@constraint(dispatch_problem, Market_Clearing[hour=HOUR],\n",
    "    sum(G[disp, hour] for disp in DISP)\n",
    "    + sum(g_res[res, hour] for res in RES)\n",
    "    + G_stor[hour]\n",
    "    ==\n",
    "    demand[hour] \n",
    "    + D_stor[hour]\n",
    ");"
   ]
  },
  {
   "cell_type": "markdown",
   "metadata": {},
   "source": [
    "$$ G^{disp}_{hour} \\le g^{max}_{disp} \\quad \\forall disp \\in DISP, hour \\in HOUR$$"
   ]
  },
  {
   "cell_type": "code",
   "execution_count": 19,
   "metadata": {},
   "outputs": [],
   "source": [
    "@constraint(dispatch_problem, Max_Generation[disp=DISP, hour=HOUR],\n",
    "    G[disp, hour] <= g_max[disp]\n",
    ");"
   ]
  },
  {
   "cell_type": "markdown",
   "metadata": {},
   "source": [
    "$$ L_{hour} = L_{hour - 1} + 0.88 * D^{stor}_{hour} - G^{stor}_{hour} \\quad \\forall hour \\in HOUR_{2,...,24} $$"
   ]
  },
  {
   "cell_type": "code",
   "execution_count": 20,
   "metadata": {},
   "outputs": [],
   "source": [
    "@constraint(dispatch_problem, Storage_Level[hour=HOUR; hour != 1],\n",
    "    L[hour] == L[hour-1] + 0.88*D_stor[hour] - G_stor[hour]\n",
    ");"
   ]
  },
  {
   "cell_type": "markdown",
   "metadata": {},
   "source": [
    "$$ L_{hour} \\le stor^{max} \\quad \\forall hour \\in HOUR$$ "
   ]
  },
  {
   "cell_type": "code",
   "execution_count": 21,
   "metadata": {},
   "outputs": [],
   "source": [
    "@constraint(dispatch_problem, Max_Storage_Level[hour=HOUR],\n",
    "    L[hour] <= storage_max\n",
    ");"
   ]
  },
  {
   "cell_type": "markdown",
   "metadata": {},
   "source": [
    "$$ G^{stor}_{hour} \\le stor^{gen} \\quad \\forall hour \\in HOUR$$ "
   ]
  },
  {
   "cell_type": "code",
   "execution_count": 22,
   "metadata": {},
   "outputs": [],
   "source": [
    "@constraint(dispatch_problem, Max_Storage_Generation[hour=HOUR],\n",
    "    G_stor[hour] <= storage_gen\n",
    ");"
   ]
  },
  {
   "cell_type": "markdown",
   "metadata": {},
   "source": [
    "$$ D^{stor}_{hour} \\le stor^{gen} \\quad \\forall hour \\in HOUR$$ "
   ]
  },
  {
   "cell_type": "code",
   "execution_count": 23,
   "metadata": {},
   "outputs": [],
   "source": [
    "@constraint(dispatch_problem, Max_Storage_Withdraw[hour=HOUR],\n",
    "    D_stor[hour] <= storage_gen\n",
    ");"
   ]
  },
  {
   "cell_type": "code",
   "execution_count": 24,
   "metadata": {},
   "outputs": [
    {
     "name": "stderr",
     "output_type": "stream",
     "text": [
      "\u001b[1m\u001b[33mWARNING: \u001b[39m\u001b[22m\u001b[33mSolver does not appear to support providing initial feasible solutions.\u001b[39m\n"
     ]
    },
    {
     "data": {
      "text/plain": [
       ":Optimal"
      ]
     },
     "execution_count": 24,
     "metadata": {},
     "output_type": "execute_result"
    }
   ],
   "source": [
    "solve(dispatch_problem)"
   ]
  },
  {
   "cell_type": "markdown",
   "metadata": {},
   "source": [
    "## Results"
   ]
  },
  {
   "cell_type": "markdown",
   "metadata": {},
   "source": [
    "`vcat` concatenates the matrix G and the renewable infeed vertically. The  `'` transposes the matrix"
   ]
  },
  {
   "cell_type": "code",
   "execution_count": 25,
   "metadata": {
    "scrolled": true
   },
   "outputs": [
    {
     "data": {
      "text/plain": [
       "24×7 Array{Float64,2}:\n",
       " 20.0  27.08     0.0    0.0    12.92   0.0    0.0\n",
       " 20.0  30.0      0.0    0.0    13.48   0.0    0.0\n",
       " 20.0  26.84     0.0    0.0    14.16   0.0    0.0\n",
       " 20.0  27.3105   0.0    0.0    15.4    0.1    0.0\n",
       " 20.0  30.0      0.0    0.0    16.08   0.675  0.0\n",
       " 20.0  30.0      1.425  0.0    15.8    1.775  0.0\n",
       " 20.0  30.0     10.615  0.0    15.16   3.225  0.0\n",
       " 20.0  30.0     14.88   0.0    15.12   5.0    0.0\n",
       " 20.0  30.0      9.095  0.0    14.88   7.025  0.0\n",
       " 20.0  30.0      4.815  0.0    14.76   9.425  0.0\n",
       " 20.0  30.0      2.115  0.0    15.16  10.725  0.0\n",
       " 20.0  30.0      1.735  0.0    15.44  10.825  0.0\n",
       " 20.0  30.0      5.9    0.0    15.0    9.1    0.0\n",
       " 20.0  30.0     10.065  0.0    13.76   7.175  0.0\n",
       " 20.0  30.0     15.115  0.0    11.96   4.925  0.0\n",
       " 20.0  30.0     19.815  0.0    10.36   2.825  0.0\n",
       " 20.0  30.0     23.68   0.0     9.32   1.0    0.0\n",
       " 20.0  30.0     25.0    1.615   8.36   0.025  0.0\n",
       " 20.0  30.0     25.0    2.92    6.08   0.0    5.0\n",
       " 20.0  30.0     25.0    4.08    3.92   0.0    5.0\n",
       " 20.0  30.0     25.0    2.6     3.4    0.0    5.0\n",
       " 20.0  30.0     25.0    3.44    3.56   0.0    0.0\n",
       " 20.0  30.0     25.0    0.48    4.52   0.0    0.0\n",
       " 20.0  30.0     14.8    0.0     6.2    0.0    0.0"
      ]
     },
     "execution_count": 25,
     "metadata": {},
     "output_type": "execute_result"
    }
   ],
   "source": [
    "result = vcat(getvalue(G).innerArray, g_res, getvalue(G_stor).innerArray')'"
   ]
  },
  {
   "cell_type": "code",
   "execution_count": 26,
   "metadata": {
    "scrolled": true
   },
   "outputs": [
    {
     "data": {
      "text/plain": [
       "24×7 Named Array{Float64,2}\n",
       "Hour ╲ Technology │     Nuclear      Lignite  …        Solar  Storage gen\n",
       "──────────────────┼──────────────────────────────────────────────────────\n",
       "1                 │        20.0        27.08  …          0.0          0.0\n",
       "2                 │        20.0         30.0             0.0          0.0\n",
       "3                 │        20.0        26.84             0.0          0.0\n",
       "4                 │        20.0      27.3105             0.1          0.0\n",
       "5                 │        20.0         30.0           0.675          0.0\n",
       "6                 │        20.0         30.0           1.775          0.0\n",
       "7                 │        20.0         30.0           3.225          0.0\n",
       "8                 │        20.0         30.0             5.0          0.0\n",
       "9                 │        20.0         30.0           7.025          0.0\n",
       "10                │        20.0         30.0           9.425          0.0\n",
       "11                │        20.0         30.0          10.725          0.0\n",
       "12                │        20.0         30.0          10.825          0.0\n",
       "13                │        20.0         30.0             9.1          0.0\n",
       "14                │        20.0         30.0           7.175          0.0\n",
       "15                │        20.0         30.0           4.925          0.0\n",
       "16                │        20.0         30.0           2.825          0.0\n",
       "17                │        20.0         30.0             1.0          0.0\n",
       "18                │        20.0         30.0           0.025          0.0\n",
       "19                │        20.0         30.0             0.0          5.0\n",
       "20                │        20.0         30.0             0.0          5.0\n",
       "21                │        20.0         30.0             0.0          5.0\n",
       "22                │        20.0         30.0             0.0          0.0\n",
       "23                │        20.0         30.0             0.0          0.0\n",
       "24                │        20.0         30.0  …          0.0          0.0"
      ]
     },
     "execution_count": 26,
     "metadata": {},
     "output_type": "execute_result"
    }
   ],
   "source": [
    "generation = NamedArray(result, (HOUR, TECHNOLOGIES), (\"Hour\", \"Technology\"))"
   ]
  },
  {
   "cell_type": "code",
   "execution_count": 27,
   "metadata": {
    "scrolled": true
   },
   "outputs": [
    {
     "data": {
      "text/plain": [
       "24-element Array{Float64,1}:\n",
       " -0.0    \n",
       " -4.48   \n",
       " -5.0    \n",
       " -4.81045\n",
       " -2.755  \n",
       " -0.0    \n",
       " -0.0    \n",
       " -0.0    \n",
       " -0.0    \n",
       " -0.0    \n",
       " -0.0    \n",
       " -0.0    \n",
       " -0.0    \n",
       " -0.0    \n",
       " -0.0    \n",
       " -0.0    \n",
       " -0.0    \n",
       " -0.0    \n",
       " -0.0    \n",
       " -0.0    \n",
       " -0.0    \n",
       " -0.0    \n",
       " -0.0    \n",
       " -0.0    "
      ]
     },
     "execution_count": 27,
     "metadata": {},
     "output_type": "execute_result"
    }
   ],
   "source": [
    "storage_withdraw = -getvalue(D_stor).innerArray"
   ]
  },
  {
   "cell_type": "code",
   "execution_count": 28,
   "metadata": {},
   "outputs": [
    {
     "data": {
      "text/plain": [
       "24-element Array{Float64,1}:\n",
       " -0.0   \n",
       "  3.9424\n",
       "  8.3424\n",
       " 12.5756\n",
       " 15.0   \n",
       " 15.0   \n",
       " 15.0   \n",
       " 15.0   \n",
       " 15.0   \n",
       " 15.0   \n",
       " 15.0   \n",
       " 15.0   \n",
       " 15.0   \n",
       " 15.0   \n",
       " 15.0   \n",
       " 15.0   \n",
       " 15.0   \n",
       " 15.0   \n",
       " 10.0   \n",
       "  5.0   \n",
       "  0.0   \n",
       "  0.0   \n",
       "  0.0   \n",
       "  0.0   "
      ]
     },
     "execution_count": 28,
     "metadata": {},
     "output_type": "execute_result"
    }
   ],
   "source": [
    "storage_level = getvalue(L).innerArray"
   ]
  },
  {
   "cell_type": "code",
   "execution_count": 29,
   "metadata": {},
   "outputs": [],
   "source": [
    "@userplot Areaplot\n",
    "@recipe function f(a::Areaplot)\n",
    "    data = cumsum(a.args[1], 2)\n",
    "\n",
    "    seriestype := :line\n",
    "    fillrange := 0\n",
    "\n",
    "    @series begin\n",
    "        data[:,1]\n",
    "    end\n",
    "\n",
    "    for i in 2:size(data, 2)\n",
    "    @series begin\n",
    "            fillrange := data[:,i-1]\n",
    "            data[:,i]\n",
    "        end\n",
    "    end\n",
    "end"
   ]
  },
  {
   "cell_type": "markdown",
   "metadata": {},
   "source": [
    "You can also save plots in common formats like pdf, png or svg using the `savefig()` function."
   ]
  },
  {
   "cell_type": "code",
   "execution_count": 30,
   "metadata": {
    "scrolled": true
   },
   "outputs": [
    {
     "data": {
      "image/svg+xml": [
       "<?xml version=\"1.0\" encoding=\"utf-8\"?>\n",
       "<svg xmlns=\"http://www.w3.org/2000/svg\" xmlns:xlink=\"http://www.w3.org/1999/xlink\" width=\"600\" height=\"400\" viewBox=\"0 0 600 400\">\n",
       "<defs>\n",
       "  <clipPath id=\"clip7800\">\n",
       "    <rect x=\"0\" y=\"0\" width=\"600\" height=\"400\"/>\n",
       "  </clipPath>\n",
       "</defs>\n",
       "<polygon clip-path=\"url(#clip7800)\" points=\"\n",
       "0,400 600,400 600,0 0,0 \n",
       "  \" fill=\"#ffffff\" fill-opacity=\"1\"/>\n",
       "<defs>\n",
       "  <clipPath id=\"clip7801\">\n",
       "    <rect x=\"120\" y=\"0\" width=\"421\" height=\"400\"/>\n",
       "  </clipPath>\n",
       "</defs>\n",
       "<polygon clip-path=\"url(#clip7800)\" points=\"\n",
       "29.1292,291.367 580.315,291.367 580.315,31.4961 29.1292,31.4961 \n",
       "  \" fill=\"#ffffff\" fill-opacity=\"1\"/>\n",
       "<defs>\n",
       "  <clipPath id=\"clip7802\">\n",
       "    <rect x=\"29\" y=\"31\" width=\"552\" height=\"261\"/>\n",
       "  </clipPath>\n",
       "</defs>\n",
       "<polyline clip-path=\"url(#clip7802)\" style=\"stroke:#000000; stroke-width:0.5; stroke-opacity:0.1; fill:none\" points=\"\n",
       "  124.988,291.367 124.988,31.4961 \n",
       "  \"/>\n",
       "<polyline clip-path=\"url(#clip7802)\" style=\"stroke:#000000; stroke-width:0.5; stroke-opacity:0.1; fill:none\" points=\"\n",
       "  244.811,291.367 244.811,31.4961 \n",
       "  \"/>\n",
       "<polyline clip-path=\"url(#clip7802)\" style=\"stroke:#000000; stroke-width:0.5; stroke-opacity:0.1; fill:none\" points=\"\n",
       "  364.634,291.367 364.634,31.4961 \n",
       "  \"/>\n",
       "<polyline clip-path=\"url(#clip7802)\" style=\"stroke:#000000; stroke-width:0.5; stroke-opacity:0.1; fill:none\" points=\"\n",
       "  484.457,291.367 484.457,31.4961 \n",
       "  \"/>\n",
       "<polyline clip-path=\"url(#clip7802)\" style=\"stroke:#000000; stroke-width:0.5; stroke-opacity:0.1; fill:none\" points=\"\n",
       "  29.1292,277.544 580.315,277.544 \n",
       "  \"/>\n",
       "<polyline clip-path=\"url(#clip7802)\" style=\"stroke:#000000; stroke-width:0.5; stroke-opacity:0.1; fill:none\" points=\"\n",
       "  29.1292,222.252 580.315,222.252 \n",
       "  \"/>\n",
       "<polyline clip-path=\"url(#clip7802)\" style=\"stroke:#000000; stroke-width:0.5; stroke-opacity:0.1; fill:none\" points=\"\n",
       "  29.1292,166.961 580.315,166.961 \n",
       "  \"/>\n",
       "<polyline clip-path=\"url(#clip7802)\" style=\"stroke:#000000; stroke-width:0.5; stroke-opacity:0.1; fill:none\" points=\"\n",
       "  29.1292,111.669 580.315,111.669 \n",
       "  \"/>\n",
       "<polyline clip-path=\"url(#clip7802)\" style=\"stroke:#000000; stroke-width:0.5; stroke-opacity:0.1; fill:none\" points=\"\n",
       "  29.1292,56.3773 580.315,56.3773 \n",
       "  \"/>\n",
       "<polyline clip-path=\"url(#clip7800)\" style=\"stroke:#000000; stroke-width:1; stroke-opacity:1; fill:none\" points=\"\n",
       "  29.1292,291.367 580.315,291.367 \n",
       "  \"/>\n",
       "<polyline clip-path=\"url(#clip7800)\" style=\"stroke:#000000; stroke-width:1; stroke-opacity:1; fill:none\" points=\"\n",
       "  29.1292,291.367 29.1292,31.4961 \n",
       "  \"/>\n",
       "<polyline clip-path=\"url(#clip7800)\" style=\"stroke:#000000; stroke-width:1; stroke-opacity:1; fill:none\" points=\"\n",
       "  124.988,291.367 124.988,287.469 \n",
       "  \"/>\n",
       "<polyline clip-path=\"url(#clip7800)\" style=\"stroke:#000000; stroke-width:1; stroke-opacity:1; fill:none\" points=\"\n",
       "  244.811,291.367 244.811,287.469 \n",
       "  \"/>\n",
       "<polyline clip-path=\"url(#clip7800)\" style=\"stroke:#000000; stroke-width:1; stroke-opacity:1; fill:none\" points=\"\n",
       "  364.634,291.367 364.634,287.469 \n",
       "  \"/>\n",
       "<polyline clip-path=\"url(#clip7800)\" style=\"stroke:#000000; stroke-width:1; stroke-opacity:1; fill:none\" points=\"\n",
       "  484.457,291.367 484.457,287.469 \n",
       "  \"/>\n",
       "<polyline clip-path=\"url(#clip7800)\" style=\"stroke:#000000; stroke-width:1; stroke-opacity:1; fill:none\" points=\"\n",
       "  29.1292,277.544 37.397,277.544 \n",
       "  \"/>\n",
       "<polyline clip-path=\"url(#clip7800)\" style=\"stroke:#000000; stroke-width:1; stroke-opacity:1; fill:none\" points=\"\n",
       "  29.1292,222.252 37.397,222.252 \n",
       "  \"/>\n",
       "<polyline clip-path=\"url(#clip7800)\" style=\"stroke:#000000; stroke-width:1; stroke-opacity:1; fill:none\" points=\"\n",
       "  29.1292,166.961 37.397,166.961 \n",
       "  \"/>\n",
       "<polyline clip-path=\"url(#clip7800)\" style=\"stroke:#000000; stroke-width:1; stroke-opacity:1; fill:none\" points=\"\n",
       "  29.1292,111.669 37.397,111.669 \n",
       "  \"/>\n",
       "<polyline clip-path=\"url(#clip7800)\" style=\"stroke:#000000; stroke-width:1; stroke-opacity:1; fill:none\" points=\"\n",
       "  29.1292,56.3773 37.397,56.3773 \n",
       "  \"/>\n",
       "<g clip-path=\"url(#clip7800)\">\n",
       "<text style=\"fill:#000000; fill-opacity:1; font-family:Arial,Helvetica Neue,Helvetica,sans-serif; font-size:12; text-anchor:middle;\" transform=\"rotate(0, 124.988, 305.167)\" x=\"124.988\" y=\"305.167\">5</text>\n",
       "</g>\n",
       "<g clip-path=\"url(#clip7800)\">\n",
       "<text style=\"fill:#000000; fill-opacity:1; font-family:Arial,Helvetica Neue,Helvetica,sans-serif; font-size:12; text-anchor:middle;\" transform=\"rotate(0, 244.811, 305.167)\" x=\"244.811\" y=\"305.167\">10</text>\n",
       "</g>\n",
       "<g clip-path=\"url(#clip7800)\">\n",
       "<text style=\"fill:#000000; fill-opacity:1; font-family:Arial,Helvetica Neue,Helvetica,sans-serif; font-size:12; text-anchor:middle;\" transform=\"rotate(0, 364.634, 305.167)\" x=\"364.634\" y=\"305.167\">15</text>\n",
       "</g>\n",
       "<g clip-path=\"url(#clip7800)\">\n",
       "<text style=\"fill:#000000; fill-opacity:1; font-family:Arial,Helvetica Neue,Helvetica,sans-serif; font-size:12; text-anchor:middle;\" transform=\"rotate(0, 484.457, 305.167)\" x=\"484.457\" y=\"305.167\">20</text>\n",
       "</g>\n",
       "<g clip-path=\"url(#clip7800)\">\n",
       "<text style=\"fill:#000000; fill-opacity:1; font-family:Arial,Helvetica Neue,Helvetica,sans-serif; font-size:12; text-anchor:end;\" transform=\"rotate(0, 23.1292, 282.044)\" x=\"23.1292\" y=\"282.044\">0</text>\n",
       "</g>\n",
       "<g clip-path=\"url(#clip7800)\">\n",
       "<text style=\"fill:#000000; fill-opacity:1; font-family:Arial,Helvetica Neue,Helvetica,sans-serif; font-size:12; text-anchor:end;\" transform=\"rotate(0, 23.1292, 226.752)\" x=\"23.1292\" y=\"226.752\">20</text>\n",
       "</g>\n",
       "<g clip-path=\"url(#clip7800)\">\n",
       "<text style=\"fill:#000000; fill-opacity:1; font-family:Arial,Helvetica Neue,Helvetica,sans-serif; font-size:12; text-anchor:end;\" transform=\"rotate(0, 23.1292, 171.461)\" x=\"23.1292\" y=\"171.461\">40</text>\n",
       "</g>\n",
       "<g clip-path=\"url(#clip7800)\">\n",
       "<text style=\"fill:#000000; fill-opacity:1; font-family:Arial,Helvetica Neue,Helvetica,sans-serif; font-size:12; text-anchor:end;\" transform=\"rotate(0, 23.1292, 116.169)\" x=\"23.1292\" y=\"116.169\">60</text>\n",
       "</g>\n",
       "<g clip-path=\"url(#clip7800)\">\n",
       "<text style=\"fill:#000000; fill-opacity:1; font-family:Arial,Helvetica Neue,Helvetica,sans-serif; font-size:12; text-anchor:end;\" transform=\"rotate(0, 23.1292, 60.8773)\" x=\"23.1292\" y=\"60.8773\">80</text>\n",
       "</g>\n",
       "<g clip-path=\"url(#clip7800)\">\n",
       "<text style=\"fill:#000000; fill-opacity:1; font-family:Arial,Helvetica Neue,Helvetica,sans-serif; font-size:21; text-anchor:middle;\" transform=\"rotate(0, 304.722, 18)\" x=\"304.722\" y=\"18\">Dispatch</text>\n",
       "</g>\n",
       "<polygon clip-path=\"url(#clip7802)\" points=\"\n",
       "29.1292,222.252 53.0938,222.252 77.0584,222.252 101.023,222.252 124.988,222.252 148.952,222.252 172.917,222.252 196.881,222.252 220.846,222.252 244.811,222.252 \n",
       "  268.775,222.252 292.74,222.252 316.704,222.252 340.669,222.252 364.634,222.252 388.598,222.252 412.563,222.252 436.527,222.252 460.492,222.252 484.457,222.252 \n",
       "  508.421,222.252 532.386,222.252 556.35,222.252 580.315,222.252 580.315,277.544 556.35,277.544 532.386,277.544 508.421,277.544 484.457,277.544 460.492,277.544 \n",
       "  436.527,277.544 412.563,277.544 388.598,277.544 364.634,277.544 340.669,277.544 316.704,277.544 292.74,277.544 268.775,277.544 244.811,277.544 220.846,277.544 \n",
       "  196.881,277.544 172.917,277.544 148.952,277.544 124.988,277.544 101.023,277.544 77.0584,277.544 53.0938,277.544 29.1292,277.544 \n",
       "  \" fill=\"#ff0000\" fill-opacity=\"1\"/>\n",
       "<polyline clip-path=\"url(#clip7802)\" style=\"stroke:#ff0000; stroke-width:1; stroke-opacity:1; fill:none\" points=\"\n",
       "  29.1292,222.252 53.0938,222.252 77.0584,222.252 101.023,222.252 124.988,222.252 148.952,222.252 172.917,222.252 196.881,222.252 220.846,222.252 244.811,222.252 \n",
       "  268.775,222.252 292.74,222.252 316.704,222.252 340.669,222.252 364.634,222.252 388.598,222.252 412.563,222.252 436.527,222.252 460.492,222.252 484.457,222.252 \n",
       "  508.421,222.252 532.386,222.252 556.35,222.252 580.315,222.252 \n",
       "  \"/>\n",
       "<polygon clip-path=\"url(#clip7802)\" points=\"\n",
       "29.1292,147.387 53.0938,139.315 77.0584,148.051 101.023,146.75 124.988,139.315 148.952,139.315 172.917,139.315 196.881,139.315 220.846,139.315 244.811,139.315 \n",
       "  268.775,139.315 292.74,139.315 316.704,139.315 340.669,139.315 364.634,139.315 388.598,139.315 412.563,139.315 436.527,139.315 460.492,139.315 484.457,139.315 \n",
       "  508.421,139.315 532.386,139.315 556.35,139.315 580.315,139.315 580.315,222.252 556.35,222.252 532.386,222.252 508.421,222.252 484.457,222.252 460.492,222.252 \n",
       "  436.527,222.252 412.563,222.252 388.598,222.252 364.634,222.252 340.669,222.252 316.704,222.252 292.74,222.252 268.775,222.252 244.811,222.252 220.846,222.252 \n",
       "  196.881,222.252 172.917,222.252 148.952,222.252 124.988,222.252 101.023,222.252 77.0584,222.252 53.0938,222.252 29.1292,222.252 \n",
       "  \" fill=\"#a52a2a\" fill-opacity=\"1\"/>\n",
       "<polyline clip-path=\"url(#clip7802)\" style=\"stroke:#a52a2a; stroke-width:1; stroke-opacity:1; fill:none\" points=\"\n",
       "  29.1292,147.387 53.0938,139.315 77.0584,148.051 101.023,146.75 124.988,139.315 148.952,139.315 172.917,139.315 196.881,139.315 220.846,139.315 244.811,139.315 \n",
       "  268.775,139.315 292.74,139.315 316.704,139.315 340.669,139.315 364.634,139.315 388.598,139.315 412.563,139.315 436.527,139.315 460.492,139.315 484.457,139.315 \n",
       "  508.421,139.315 532.386,139.315 556.35,139.315 580.315,139.315 \n",
       "  \"/>\n",
       "<polygon clip-path=\"url(#clip7802)\" points=\"\n",
       "29.1292,147.387 53.0938,139.315 77.0584,148.051 101.023,146.75 124.988,139.315 148.952,135.375 172.917,109.969 196.881,98.1778 220.846,114.171 244.811,126.003 \n",
       "  268.775,133.468 292.74,134.518 316.704,123.004 340.669,111.489 364.634,97.5281 388.598,84.5346 412.563,73.8495 436.527,70.2002 460.492,70.2002 484.457,70.2002 \n",
       "  508.421,70.2002 532.386,70.2002 556.35,70.2002 580.315,98.3989 580.315,139.315 556.35,139.315 532.386,139.315 508.421,139.315 484.457,139.315 460.492,139.315 \n",
       "  436.527,139.315 412.563,139.315 388.598,139.315 364.634,139.315 340.669,139.315 316.704,139.315 292.74,139.315 268.775,139.315 244.811,139.315 220.846,139.315 \n",
       "  196.881,139.315 172.917,139.315 148.952,139.315 124.988,139.315 101.023,146.75 77.0584,148.051 53.0938,139.315 29.1292,147.387 \n",
       "  \" fill=\"#808080\" fill-opacity=\"1\"/>\n",
       "<polyline clip-path=\"url(#clip7802)\" style=\"stroke:#808080; stroke-width:1; stroke-opacity:1; fill:none\" points=\"\n",
       "  29.1292,147.387 53.0938,139.315 77.0584,148.051 101.023,146.75 124.988,139.315 148.952,135.375 172.917,109.969 196.881,98.1778 220.846,114.171 244.811,126.003 \n",
       "  268.775,133.468 292.74,134.518 316.704,123.004 340.669,111.489 364.634,97.5281 388.598,84.5346 412.563,73.8495 436.527,70.2002 460.492,70.2002 484.457,70.2002 \n",
       "  508.421,70.2002 532.386,70.2002 556.35,70.2002 580.315,98.3989 \n",
       "  \"/>\n",
       "<polygon clip-path=\"url(#clip7802)\" points=\"\n",
       "29.1292,147.387 53.0938,139.315 77.0584,148.051 101.023,146.75 124.988,139.315 148.952,135.375 172.917,109.969 196.881,98.1778 220.846,114.171 244.811,126.003 \n",
       "  268.775,133.468 292.74,134.518 316.704,123.004 340.669,111.489 364.634,97.5281 388.598,84.5346 412.563,73.8495 436.527,65.7354 460.492,62.1276 484.457,58.9207 \n",
       "  508.421,63.0123 532.386,60.69 556.35,68.8732 580.315,98.3989 580.315,98.3989 556.35,70.2002 532.386,70.2002 508.421,70.2002 484.457,70.2002 460.492,70.2002 \n",
       "  436.527,70.2002 412.563,73.8495 388.598,84.5346 364.634,97.5281 340.669,111.489 316.704,123.004 292.74,134.518 268.775,133.468 244.811,126.003 220.846,114.171 \n",
       "  196.881,98.1778 172.917,109.969 148.952,135.375 124.988,139.315 101.023,146.75 77.0584,148.051 53.0938,139.315 29.1292,147.387 \n",
       "  \" fill=\"#ffa500\" fill-opacity=\"1\"/>\n",
       "<polyline clip-path=\"url(#clip7802)\" style=\"stroke:#ffa500; stroke-width:1; stroke-opacity:1; fill:none\" points=\"\n",
       "  29.1292,147.387 53.0938,139.315 77.0584,148.051 101.023,146.75 124.988,139.315 148.952,135.375 172.917,109.969 196.881,98.1778 220.846,114.171 244.811,126.003 \n",
       "  268.775,133.468 292.74,134.518 316.704,123.004 340.669,111.489 364.634,97.5281 388.598,84.5346 412.563,73.8495 436.527,65.7354 460.492,62.1276 484.457,58.9207 \n",
       "  508.421,63.0123 532.386,60.69 556.35,68.8732 580.315,98.3989 \n",
       "  \"/>\n",
       "<polygon clip-path=\"url(#clip7802)\" points=\"\n",
       "29.1292,111.669 53.0938,102.048 77.0584,108.904 101.023,104.176 124.988,94.8603 148.952,91.6948 172.917,68.0577 196.881,56.3773 220.846,73.0339 244.811,85.1981 \n",
       "  268.775,91.5566 292.74,91.8331 316.704,81.535 340.669,73.4486 364.634,64.4637 388.598,55.8935 412.563,48.0836 436.527,42.6235 460.492,45.319 484.457,48.0836 \n",
       "  508.421,53.6127 532.386,50.8481 556.35,56.3773 580.315,81.2585 580.315,98.3989 556.35,68.8732 532.386,60.69 508.421,63.0123 484.457,58.9207 460.492,62.1276 \n",
       "  436.527,65.7354 412.563,73.8495 388.598,84.5346 364.634,97.5281 340.669,111.489 316.704,123.004 292.74,134.518 268.775,133.468 244.811,126.003 220.846,114.171 \n",
       "  196.881,98.1778 172.917,109.969 148.952,135.375 124.988,139.315 101.023,146.75 77.0584,148.051 53.0938,139.315 29.1292,147.387 \n",
       "  \" fill=\"#0000ff\" fill-opacity=\"1\"/>\n",
       "<polyline clip-path=\"url(#clip7802)\" style=\"stroke:#0000ff; stroke-width:1; stroke-opacity:1; fill:none\" points=\"\n",
       "  29.1292,111.669 53.0938,102.048 77.0584,108.904 101.023,104.176 124.988,94.8603 148.952,91.6948 172.917,68.0577 196.881,56.3773 220.846,73.0339 244.811,85.1981 \n",
       "  268.775,91.5566 292.74,91.8331 316.704,81.535 340.669,73.4486 364.634,64.4637 388.598,55.8935 412.563,48.0836 436.527,42.6235 460.492,45.319 484.457,48.0836 \n",
       "  508.421,53.6127 532.386,50.8481 556.35,56.3773 580.315,81.2585 \n",
       "  \"/>\n",
       "<polygon clip-path=\"url(#clip7802)\" points=\"\n",
       "29.1292,111.669 53.0938,102.048 77.0584,108.904 101.023,103.899 124.988,92.9942 148.952,86.7877 172.917,59.1419 196.881,42.5544 220.846,53.6127 244.811,59.1419 \n",
       "  268.775,61.9065 292.74,61.9065 316.704,56.3773 340.669,53.6127 364.634,50.8481 388.598,48.0836 412.563,45.319 436.527,42.5544 460.492,45.319 484.457,48.0836 \n",
       "  508.421,53.6127 532.386,50.8481 556.35,56.3773 580.315,81.2585 580.315,81.2585 556.35,56.3773 532.386,50.8481 508.421,53.6127 484.457,48.0836 460.492,45.319 \n",
       "  436.527,42.6235 412.563,48.0836 388.598,55.8935 364.634,64.4637 340.669,73.4486 316.704,81.535 292.74,91.8331 268.775,91.5566 244.811,85.1981 220.846,73.0339 \n",
       "  196.881,56.3773 172.917,68.0577 148.952,91.6948 124.988,94.8603 101.023,104.176 77.0584,108.904 53.0938,102.048 29.1292,111.669 \n",
       "  \" fill=\"#ffff00\" fill-opacity=\"1\"/>\n",
       "<polyline clip-path=\"url(#clip7802)\" style=\"stroke:#ffff00; stroke-width:1; stroke-opacity:1; fill:none\" points=\"\n",
       "  29.1292,111.669 53.0938,102.048 77.0584,108.904 101.023,103.899 124.988,92.9942 148.952,86.7877 172.917,59.1419 196.881,42.5544 220.846,53.6127 244.811,59.1419 \n",
       "  268.775,61.9065 292.74,61.9065 316.704,56.3773 340.669,53.6127 364.634,50.8481 388.598,48.0836 412.563,45.319 436.527,42.5544 460.492,45.319 484.457,48.0836 \n",
       "  508.421,53.6127 532.386,50.8481 556.35,56.3773 580.315,81.2585 \n",
       "  \"/>\n",
       "<polygon clip-path=\"url(#clip7802)\" points=\"\n",
       "29.1292,111.669 53.0938,102.048 77.0584,108.904 101.023,103.899 124.988,92.9942 148.952,86.7877 172.917,59.1419 196.881,42.5544 220.846,53.6127 244.811,59.1419 \n",
       "  268.775,61.9065 292.74,61.9065 316.704,56.3773 340.669,53.6127 364.634,50.8481 388.598,48.0836 412.563,45.319 436.527,42.5544 460.492,31.4961 484.457,34.2606 \n",
       "  508.421,39.7898 532.386,50.8481 556.35,56.3773 580.315,81.2585 580.315,81.2585 556.35,56.3773 532.386,50.8481 508.421,53.6127 484.457,48.0836 460.492,45.319 \n",
       "  436.527,42.5544 412.563,45.319 388.598,48.0836 364.634,50.8481 340.669,53.6127 316.704,56.3773 292.74,61.9065 268.775,61.9065 244.811,59.1419 220.846,53.6127 \n",
       "  196.881,42.5544 172.917,59.1419 148.952,86.7877 124.988,92.9942 101.023,103.899 77.0584,108.904 53.0938,102.048 29.1292,111.669 \n",
       "  \" fill=\"#800080\" fill-opacity=\"1\"/>\n",
       "<polyline clip-path=\"url(#clip7802)\" style=\"stroke:#800080; stroke-width:1; stroke-opacity:1; fill:none\" points=\"\n",
       "  29.1292,111.669 53.0938,102.048 77.0584,108.904 101.023,103.899 124.988,92.9942 148.952,86.7877 172.917,59.1419 196.881,42.5544 220.846,53.6127 244.811,59.1419 \n",
       "  268.775,61.9065 292.74,61.9065 316.704,56.3773 340.669,53.6127 364.634,50.8481 388.598,48.0836 412.563,45.319 436.527,42.5544 460.492,31.4961 484.457,34.2606 \n",
       "  508.421,39.7898 532.386,50.8481 556.35,56.3773 580.315,81.2585 \n",
       "  \"/>\n",
       "<polygon clip-path=\"url(#clip7802)\" points=\"\n",
       "29.1292,277.544 53.0938,289.929 77.0584,291.367 101.023,290.843 124.988,285.16 148.952,277.544 172.917,277.544 196.881,277.544 220.846,277.544 244.811,277.544 \n",
       "  268.775,277.544 292.74,277.544 316.704,277.544 340.669,277.544 364.634,277.544 388.598,277.544 412.563,277.544 436.527,277.544 460.492,277.544 484.457,277.544 \n",
       "  508.421,277.544 532.386,277.544 556.35,277.544 580.315,277.544 580.315,277.544 556.35,277.544 532.386,277.544 508.421,277.544 484.457,277.544 460.492,277.544 \n",
       "  436.527,277.544 412.563,277.544 388.598,277.544 364.634,277.544 340.669,277.544 316.704,277.544 292.74,277.544 268.775,277.544 244.811,277.544 220.846,277.544 \n",
       "  196.881,277.544 172.917,277.544 148.952,277.544 124.988,277.544 101.023,277.544 77.0584,277.544 53.0938,277.544 29.1292,277.544 \n",
       "  \" fill=\"#800080\" fill-opacity=\"1\"/>\n",
       "<polyline clip-path=\"url(#clip7802)\" style=\"stroke:#800080; stroke-width:1; stroke-opacity:1; fill:none\" points=\"\n",
       "  29.1292,277.544 53.0938,289.929 77.0584,291.367 101.023,290.843 124.988,285.16 148.952,277.544 172.917,277.544 196.881,277.544 220.846,277.544 244.811,277.544 \n",
       "  268.775,277.544 292.74,277.544 316.704,277.544 340.669,277.544 364.634,277.544 388.598,277.544 412.563,277.544 436.527,277.544 460.492,277.544 484.457,277.544 \n",
       "  508.421,277.544 532.386,277.544 556.35,277.544 580.315,277.544 \n",
       "  \"/>\n",
       "<polyline clip-path=\"url(#clip7802)\" style=\"stroke:#000000; stroke-width:3; stroke-opacity:1; fill:none\" points=\"\n",
       "  29.1292,111.669 53.0938,114.434 77.0584,122.727 101.023,117.198 124.988,100.611 148.952,86.7877 172.917,59.1419 196.881,42.5544 220.846,53.6127 244.811,59.1419 \n",
       "  268.775,61.9065 292.74,61.9065 316.704,56.3773 340.669,53.6127 364.634,50.8481 388.598,48.0836 412.563,45.319 436.527,42.5544 460.492,31.4961 484.457,34.2606 \n",
       "  508.421,39.7898 532.386,50.8481 556.35,56.3773 580.315,81.2585 \n",
       "  \"/>\n",
       "<polygon clip-path=\"url(#clip7800)\" points=\"\n",
       "409.357,255.367 562.315,255.367 562.315,104.167 409.357,104.167 \n",
       "  \" fill=\"#ffffff\" fill-opacity=\"1\"/>\n",
       "<polyline clip-path=\"url(#clip7800)\" style=\"stroke:#000000; stroke-width:1; stroke-opacity:1; fill:none\" points=\"\n",
       "  409.357,255.367 562.315,255.367 562.315,104.167 409.357,104.167 409.357,255.367 \n",
       "  \"/>\n",
       "<polygon clip-path=\"url(#clip7800)\" points=\"\n",
       "415.357,125.335 451.357,125.335 451.357,113.239 415.357,113.239 415.357,125.335 \n",
       "  \" fill=\"#ff0000\" fill-opacity=\"1\"/>\n",
       "<polyline clip-path=\"url(#clip7800)\" style=\"stroke:#ff0000; stroke-width:1; stroke-opacity:1; fill:none\" points=\"\n",
       "  415.357,113.239 451.357,113.239 \n",
       "  \"/>\n",
       "<g clip-path=\"url(#clip7800)\">\n",
       "<text style=\"fill:#000000; fill-opacity:1; font-family:Arial,Helvetica Neue,Helvetica,sans-serif; font-size:12; text-anchor:start;\" transform=\"rotate(0, 457.357, 123.787)\" x=\"457.357\" y=\"123.787\">Nuclear</text>\n",
       "</g>\n",
       "<polygon clip-path=\"url(#clip7800)\" points=\"\n",
       "415.357,140.455 451.357,140.455 451.357,128.359 415.357,128.359 415.357,140.455 \n",
       "  \" fill=\"#a52a2a\" fill-opacity=\"1\"/>\n",
       "<polyline clip-path=\"url(#clip7800)\" style=\"stroke:#a52a2a; stroke-width:1; stroke-opacity:1; fill:none\" points=\"\n",
       "  415.357,128.359 451.357,128.359 \n",
       "  \"/>\n",
       "<g clip-path=\"url(#clip7800)\">\n",
       "<text style=\"fill:#000000; fill-opacity:1; font-family:Arial,Helvetica Neue,Helvetica,sans-serif; font-size:12; text-anchor:start;\" transform=\"rotate(0, 457.357, 138.907)\" x=\"457.357\" y=\"138.907\">Lignite</text>\n",
       "</g>\n",
       "<polygon clip-path=\"url(#clip7800)\" points=\"\n",
       "415.357,155.575 451.357,155.575 451.357,143.479 415.357,143.479 415.357,155.575 \n",
       "  \" fill=\"#808080\" fill-opacity=\"1\"/>\n",
       "<polyline clip-path=\"url(#clip7800)\" style=\"stroke:#808080; stroke-width:1; stroke-opacity:1; fill:none\" points=\"\n",
       "  415.357,143.479 451.357,143.479 \n",
       "  \"/>\n",
       "<g clip-path=\"url(#clip7800)\">\n",
       "<text style=\"fill:#000000; fill-opacity:1; font-family:Arial,Helvetica Neue,Helvetica,sans-serif; font-size:12; text-anchor:start;\" transform=\"rotate(0, 457.357, 154.027)\" x=\"457.357\" y=\"154.027\">Hard coal</text>\n",
       "</g>\n",
       "<polygon clip-path=\"url(#clip7800)\" points=\"\n",
       "415.357,170.695 451.357,170.695 451.357,158.599 415.357,158.599 415.357,170.695 \n",
       "  \" fill=\"#ffa500\" fill-opacity=\"1\"/>\n",
       "<polyline clip-path=\"url(#clip7800)\" style=\"stroke:#ffa500; stroke-width:1; stroke-opacity:1; fill:none\" points=\"\n",
       "  415.357,158.599 451.357,158.599 \n",
       "  \"/>\n",
       "<g clip-path=\"url(#clip7800)\">\n",
       "<text style=\"fill:#000000; fill-opacity:1; font-family:Arial,Helvetica Neue,Helvetica,sans-serif; font-size:12; text-anchor:start;\" transform=\"rotate(0, 457.357, 169.147)\" x=\"457.357\" y=\"169.147\">Natural gas</text>\n",
       "</g>\n",
       "<polygon clip-path=\"url(#clip7800)\" points=\"\n",
       "415.357,185.815 451.357,185.815 451.357,173.719 415.357,173.719 415.357,185.815 \n",
       "  \" fill=\"#0000ff\" fill-opacity=\"1\"/>\n",
       "<polyline clip-path=\"url(#clip7800)\" style=\"stroke:#0000ff; stroke-width:1; stroke-opacity:1; fill:none\" points=\"\n",
       "  415.357,173.719 451.357,173.719 \n",
       "  \"/>\n",
       "<g clip-path=\"url(#clip7800)\">\n",
       "<text style=\"fill:#000000; fill-opacity:1; font-family:Arial,Helvetica Neue,Helvetica,sans-serif; font-size:12; text-anchor:start;\" transform=\"rotate(0, 457.357, 184.267)\" x=\"457.357\" y=\"184.267\">Wind</text>\n",
       "</g>\n",
       "<polygon clip-path=\"url(#clip7800)\" points=\"\n",
       "415.357,200.935 451.357,200.935 451.357,188.839 415.357,188.839 415.357,200.935 \n",
       "  \" fill=\"#ffff00\" fill-opacity=\"1\"/>\n",
       "<polyline clip-path=\"url(#clip7800)\" style=\"stroke:#ffff00; stroke-width:1; stroke-opacity:1; fill:none\" points=\"\n",
       "  415.357,188.839 451.357,188.839 \n",
       "  \"/>\n",
       "<g clip-path=\"url(#clip7800)\">\n",
       "<text style=\"fill:#000000; fill-opacity:1; font-family:Arial,Helvetica Neue,Helvetica,sans-serif; font-size:12; text-anchor:start;\" transform=\"rotate(0, 457.357, 199.387)\" x=\"457.357\" y=\"199.387\">Solar</text>\n",
       "</g>\n",
       "<polygon clip-path=\"url(#clip7800)\" points=\"\n",
       "415.357,216.055 451.357,216.055 451.357,203.959 415.357,203.959 415.357,216.055 \n",
       "  \" fill=\"#800080\" fill-opacity=\"1\"/>\n",
       "<polyline clip-path=\"url(#clip7800)\" style=\"stroke:#800080; stroke-width:1; stroke-opacity:1; fill:none\" points=\"\n",
       "  415.357,203.959 451.357,203.959 \n",
       "  \"/>\n",
       "<g clip-path=\"url(#clip7800)\">\n",
       "<text style=\"fill:#000000; fill-opacity:1; font-family:Arial,Helvetica Neue,Helvetica,sans-serif; font-size:12; text-anchor:start;\" transform=\"rotate(0, 457.357, 214.507)\" x=\"457.357\" y=\"214.507\">Storage gen</text>\n",
       "</g>\n",
       "<polygon clip-path=\"url(#clip7800)\" points=\"\n",
       "415.357,231.175 451.357,231.175 451.357,219.079 415.357,219.079 415.357,231.175 \n",
       "  \" fill=\"#800080\" fill-opacity=\"1\"/>\n",
       "<polyline clip-path=\"url(#clip7800)\" style=\"stroke:#800080; stroke-width:1; stroke-opacity:1; fill:none\" points=\"\n",
       "  415.357,219.079 451.357,219.079 \n",
       "  \"/>\n",
       "<g clip-path=\"url(#clip7800)\">\n",
       "<text style=\"fill:#000000; fill-opacity:1; font-family:Arial,Helvetica Neue,Helvetica,sans-serif; font-size:12; text-anchor:start;\" transform=\"rotate(0, 457.357, 229.627)\" x=\"457.357\" y=\"229.627\">Storage withdraw</text>\n",
       "</g>\n",
       "<polyline clip-path=\"url(#clip7800)\" style=\"stroke:#000000; stroke-width:3; stroke-opacity:1; fill:none\" points=\"\n",
       "  415.357,240.247 451.357,240.247 \n",
       "  \"/>\n",
       "<g clip-path=\"url(#clip7800)\">\n",
       "<text style=\"fill:#000000; fill-opacity:1; font-family:Arial,Helvetica Neue,Helvetica,sans-serif; font-size:12; text-anchor:start;\" transform=\"rotate(0, 457.357, 244.747)\" x=\"457.357\" y=\"244.747\">Demand</text>\n",
       "</g>\n",
       "<polygon clip-path=\"url(#clip7800)\" points=\"\n",
       "29.1292,375.869 580.315,375.869 580.315,346.994 29.1292,346.994 \n",
       "  \" fill=\"#ffffff\" fill-opacity=\"1\"/>\n",
       "<defs>\n",
       "  <clipPath id=\"clip7803\">\n",
       "    <rect x=\"29\" y=\"346\" width=\"552\" height=\"30\"/>\n",
       "  </clipPath>\n",
       "</defs>\n",
       "<polyline clip-path=\"url(#clip7803)\" style=\"stroke:#000000; stroke-width:0.5; stroke-opacity:0.1; fill:none\" points=\"\n",
       "  124.988,375.869 124.988,346.994 \n",
       "  \"/>\n",
       "<polyline clip-path=\"url(#clip7803)\" style=\"stroke:#000000; stroke-width:0.5; stroke-opacity:0.1; fill:none\" points=\"\n",
       "  244.811,375.869 244.811,346.994 \n",
       "  \"/>\n",
       "<polyline clip-path=\"url(#clip7803)\" style=\"stroke:#000000; stroke-width:0.5; stroke-opacity:0.1; fill:none\" points=\"\n",
       "  364.634,375.869 364.634,346.994 \n",
       "  \"/>\n",
       "<polyline clip-path=\"url(#clip7803)\" style=\"stroke:#000000; stroke-width:0.5; stroke-opacity:0.1; fill:none\" points=\"\n",
       "  484.457,375.869 484.457,346.994 \n",
       "  \"/>\n",
       "<polyline clip-path=\"url(#clip7803)\" style=\"stroke:#000000; stroke-width:0.5; stroke-opacity:0.1; fill:none\" points=\"\n",
       "  29.1292,375.869 580.315,375.869 \n",
       "  \"/>\n",
       "<polyline clip-path=\"url(#clip7803)\" style=\"stroke:#000000; stroke-width:0.5; stroke-opacity:0.1; fill:none\" points=\"\n",
       "  29.1292,366.244 580.315,366.244 \n",
       "  \"/>\n",
       "<polyline clip-path=\"url(#clip7803)\" style=\"stroke:#000000; stroke-width:0.5; stroke-opacity:0.1; fill:none\" points=\"\n",
       "  29.1292,356.619 580.315,356.619 \n",
       "  \"/>\n",
       "<polyline clip-path=\"url(#clip7803)\" style=\"stroke:#000000; stroke-width:0.5; stroke-opacity:0.1; fill:none\" points=\"\n",
       "  29.1292,346.994 580.315,346.994 \n",
       "  \"/>\n",
       "<polyline clip-path=\"url(#clip7800)\" style=\"stroke:#000000; stroke-width:1; stroke-opacity:1; fill:none\" points=\"\n",
       "  29.1292,375.869 580.315,375.869 \n",
       "  \"/>\n",
       "<polyline clip-path=\"url(#clip7800)\" style=\"stroke:#000000; stroke-width:1; stroke-opacity:1; fill:none\" points=\"\n",
       "  29.1292,375.869 29.1292,346.994 \n",
       "  \"/>\n",
       "<polyline clip-path=\"url(#clip7800)\" style=\"stroke:#000000; stroke-width:1; stroke-opacity:1; fill:none\" points=\"\n",
       "  124.988,375.869 124.988,375.436 \n",
       "  \"/>\n",
       "<polyline clip-path=\"url(#clip7800)\" style=\"stroke:#000000; stroke-width:1; stroke-opacity:1; fill:none\" points=\"\n",
       "  244.811,375.869 244.811,375.436 \n",
       "  \"/>\n",
       "<polyline clip-path=\"url(#clip7800)\" style=\"stroke:#000000; stroke-width:1; stroke-opacity:1; fill:none\" points=\"\n",
       "  364.634,375.869 364.634,375.436 \n",
       "  \"/>\n",
       "<polyline clip-path=\"url(#clip7800)\" style=\"stroke:#000000; stroke-width:1; stroke-opacity:1; fill:none\" points=\"\n",
       "  484.457,375.869 484.457,375.436 \n",
       "  \"/>\n",
       "<polyline clip-path=\"url(#clip7800)\" style=\"stroke:#000000; stroke-width:1; stroke-opacity:1; fill:none\" points=\"\n",
       "  29.1292,375.869 37.397,375.869 \n",
       "  \"/>\n",
       "<polyline clip-path=\"url(#clip7800)\" style=\"stroke:#000000; stroke-width:1; stroke-opacity:1; fill:none\" points=\"\n",
       "  29.1292,366.244 37.397,366.244 \n",
       "  \"/>\n",
       "<polyline clip-path=\"url(#clip7800)\" style=\"stroke:#000000; stroke-width:1; stroke-opacity:1; fill:none\" points=\"\n",
       "  29.1292,356.619 37.397,356.619 \n",
       "  \"/>\n",
       "<polyline clip-path=\"url(#clip7800)\" style=\"stroke:#000000; stroke-width:1; stroke-opacity:1; fill:none\" points=\"\n",
       "  29.1292,346.994 37.397,346.994 \n",
       "  \"/>\n",
       "<g clip-path=\"url(#clip7800)\">\n",
       "<text style=\"fill:#000000; fill-opacity:1; font-family:Arial,Helvetica Neue,Helvetica,sans-serif; font-size:12; text-anchor:middle;\" transform=\"rotate(0, 124.988, 389.669)\" x=\"124.988\" y=\"389.669\">5</text>\n",
       "</g>\n",
       "<g clip-path=\"url(#clip7800)\">\n",
       "<text style=\"fill:#000000; fill-opacity:1; font-family:Arial,Helvetica Neue,Helvetica,sans-serif; font-size:12; text-anchor:middle;\" transform=\"rotate(0, 244.811, 389.669)\" x=\"244.811\" y=\"389.669\">10</text>\n",
       "</g>\n",
       "<g clip-path=\"url(#clip7800)\">\n",
       "<text style=\"fill:#000000; fill-opacity:1; font-family:Arial,Helvetica Neue,Helvetica,sans-serif; font-size:12; text-anchor:middle;\" transform=\"rotate(0, 364.634, 389.669)\" x=\"364.634\" y=\"389.669\">15</text>\n",
       "</g>\n",
       "<g clip-path=\"url(#clip7800)\">\n",
       "<text style=\"fill:#000000; fill-opacity:1; font-family:Arial,Helvetica Neue,Helvetica,sans-serif; font-size:12; text-anchor:middle;\" transform=\"rotate(0, 484.457, 389.669)\" x=\"484.457\" y=\"389.669\">20</text>\n",
       "</g>\n",
       "<g clip-path=\"url(#clip7800)\">\n",
       "<text style=\"fill:#000000; fill-opacity:1; font-family:Arial,Helvetica Neue,Helvetica,sans-serif; font-size:12; text-anchor:end;\" transform=\"rotate(0, 23.1292, 380.369)\" x=\"23.1292\" y=\"380.369\">0</text>\n",
       "</g>\n",
       "<g clip-path=\"url(#clip7800)\">\n",
       "<text style=\"fill:#000000; fill-opacity:1; font-family:Arial,Helvetica Neue,Helvetica,sans-serif; font-size:12; text-anchor:end;\" transform=\"rotate(0, 23.1292, 370.744)\" x=\"23.1292\" y=\"370.744\">5</text>\n",
       "</g>\n",
       "<g clip-path=\"url(#clip7800)\">\n",
       "<text style=\"fill:#000000; fill-opacity:1; font-family:Arial,Helvetica Neue,Helvetica,sans-serif; font-size:12; text-anchor:end;\" transform=\"rotate(0, 23.1292, 361.119)\" x=\"23.1292\" y=\"361.119\">10</text>\n",
       "</g>\n",
       "<g clip-path=\"url(#clip7800)\">\n",
       "<text style=\"fill:#000000; fill-opacity:1; font-family:Arial,Helvetica Neue,Helvetica,sans-serif; font-size:12; text-anchor:end;\" transform=\"rotate(0, 23.1292, 351.494)\" x=\"23.1292\" y=\"351.494\">15</text>\n",
       "</g>\n",
       "<g clip-path=\"url(#clip7800)\">\n",
       "<text style=\"fill:#000000; fill-opacity:1; font-family:Arial,Helvetica Neue,Helvetica,sans-serif; font-size:21; text-anchor:middle;\" transform=\"rotate(0, 304.722, 333.498)\" x=\"304.722\" y=\"333.498\">Storage level</text>\n",
       "</g>\n",
       "<polyline clip-path=\"url(#clip7803)\" style=\"stroke:#000000; stroke-width:2; stroke-opacity:1; fill:none\" points=\"\n",
       "  29.1292,375.869 53.0938,368.28 77.0584,359.81 101.023,351.661 124.988,346.994 148.952,346.994 172.917,346.994 196.881,346.994 220.846,346.994 244.811,346.994 \n",
       "  268.775,346.994 292.74,346.994 316.704,346.994 340.669,346.994 364.634,346.994 388.598,346.994 412.563,346.994 436.527,346.994 460.492,356.619 484.457,366.244 \n",
       "  508.421,375.869 532.386,375.869 556.35,375.869 580.315,375.869 \n",
       "  \"/>\n",
       "</svg>\n"
      ]
     },
     "execution_count": 30,
     "metadata": {},
     "output_type": "execute_result"
    }
   ],
   "source": [
    "l = @layout([a{0.9h};b])\n",
    "dispatch_plot = areaplot(generation, label=TECHNOLOGIES, title=\"Dispatch\",\n",
    "    color=reshape([:red, :brown, :grey, :orange, :blue, :yellow, :purple],1, length(TECHNOLOGIES)),\n",
    "    legend=:bottomleft)\n",
    "plot!(dispatch_plot, storage_withdraw, fill=0, label=\"Storage withdraw\", color=:purple)\n",
    "plot!(dispatch_plot, demand, c=:black, label=\"Demand\", width=3, legend=:bottomright)\n",
    "\n",
    "level_plot = plot(storage_level, width=2, color=:black, legend=false, title=\"Storage level\")\n",
    "\n",
    "    \n",
    "plot(dispatch_plot,level_plot, layout=l)"
   ]
  },
  {
   "cell_type": "code",
   "execution_count": 31,
   "metadata": {},
   "outputs": [],
   "source": [
    "savefig(\"dispatch_2c.pdf\")\n",
    "savefig(\"dispatch_2c.png\")\n",
    "savefig(\"dispatch_2c.svg\")"
   ]
  },
  {
   "cell_type": "code",
   "execution_count": 32,
   "metadata": {},
   "outputs": [
    {
     "data": {
      "text/plain": [
       "L_init: 1 dimensions:\n",
       "[ 1] = 0.0\n",
       "[24] = 0.0"
      ]
     },
     "execution_count": 32,
     "metadata": {},
     "output_type": "execute_result"
    }
   ],
   "source": [
    "getvalue(L_init)"
   ]
  }
 ],
 "metadata": {
  "kernelspec": {
   "display_name": "Julia 0.6.2",
   "language": "julia",
   "name": "julia-0.6"
  },
  "language_info": {
   "file_extension": ".jl",
   "mimetype": "application/julia",
   "name": "julia",
   "version": "0.6.2"
  }
 },
 "nbformat": 4,
 "nbformat_minor": 2
}
